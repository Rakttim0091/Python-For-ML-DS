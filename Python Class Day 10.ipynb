{
 "cells": [
  {
   "cell_type": "markdown",
   "id": "b0b0c35a",
   "metadata": {},
   "source": [
    "# Set in python"
   ]
  },
  {
   "cell_type": "code",
   "execution_count": null,
   "id": "90ad31fe-4215-46bb-bc09-7a3c1045e699",
   "metadata": {},
   "outputs": [],
   "source": []
  },
  {
   "cell_type": "code",
   "execution_count": 2,
   "id": "73d4f9ea",
   "metadata": {},
   "outputs": [
    {
     "name": "stdout",
     "output_type": "stream",
     "text": [
      "{'banana', 'Cat', 'apple'}\n",
      "<class 'set'>\n"
     ]
    }
   ],
   "source": [
    "a = {\"apple\",\"Cat\",\"banana\"}\n",
    "print(a)    \n",
    "print(type(a))    "
   ]
  },
  {
   "cell_type": "code",
   "execution_count": 3,
   "id": "746295c2",
   "metadata": {},
   "outputs": [
    {
     "ename": "TypeError",
     "evalue": "'set' object is not subscriptable",
     "output_type": "error",
     "traceback": [
      "\u001b[1;31m---------------------------------------------------------------------------\u001b[0m",
      "\u001b[1;31mTypeError\u001b[0m                                 Traceback (most recent call last)",
      "Cell \u001b[1;32mIn[3], line 3\u001b[0m\n\u001b[0;32m      1\u001b[0m a \u001b[38;5;241m=\u001b[39m {\u001b[38;5;124m\"\u001b[39m\u001b[38;5;124mapple\u001b[39m\u001b[38;5;124m\"\u001b[39m,\u001b[38;5;124m\"\u001b[39m\u001b[38;5;124mCat\u001b[39m\u001b[38;5;124m\"\u001b[39m,\u001b[38;5;124m\"\u001b[39m\u001b[38;5;124mbanana\u001b[39m\u001b[38;5;124m\"\u001b[39m} \u001b[38;5;66;03m#set ite, are unorderd\u001b[39;00m\n\u001b[1;32m----> 3\u001b[0m \u001b[38;5;28mprint\u001b[39m(\u001b[43ma\u001b[49m\u001b[43m[\u001b[49m\u001b[38;5;241;43m0\u001b[39;49m\u001b[43m]\u001b[49m)\n",
      "\u001b[1;31mTypeError\u001b[0m: 'set' object is not subscriptable"
     ]
    }
   ],
   "source": [
    "a = {\"apple\",\"Cat\",\"banana\"} #set ite, are unorderd\n",
    "\n",
    "print(a[0])"
   ]
  },
  {
   "cell_type": "markdown",
   "id": "b82925a6",
   "metadata": {},
   "source": [
    "# duplicate not allow"
   ]
  },
  {
   "cell_type": "code",
   "execution_count": 4,
   "id": "6baa7a48",
   "metadata": {},
   "outputs": [
    {
     "name": "stdout",
     "output_type": "stream",
     "text": [
      "{'banana', 'Cat', 'apple'}\n"
     ]
    }
   ],
   "source": [
    "a = {\"apple\",\"Cat\",\"banana\",\"Cat\"}\n",
    "\n",
    "print(a)"
   ]
  },
  {
   "cell_type": "markdown",
   "id": "f1726df4",
   "metadata": {},
   "source": [
    "# True and 1 is consider the same value"
   ]
  },
  {
   "cell_type": "code",
   "execution_count": 6,
   "id": "307afc8b",
   "metadata": {},
   "outputs": [
    {
     "name": "stdout",
     "output_type": "stream",
     "text": [
      "{1, 3, 'Cat', 22, 'banana', 'apple'}\n"
     ]
    }
   ],
   "source": [
    "a = {\"apple\",\"Cat\",\"banana\", 1,22,3,True}\n",
    "\n",
    "print(a)"
   ]
  },
  {
   "cell_type": "markdown",
   "id": "88b0d9ee",
   "metadata": {},
   "source": [
    "# get the length "
   ]
  },
  {
   "cell_type": "code",
   "execution_count": 10,
   "id": "1a122b48",
   "metadata": {},
   "outputs": [
    {
     "name": "stdout",
     "output_type": "stream",
     "text": [
      "6\n"
     ]
    }
   ],
   "source": [
    "a = {\"apple\",\"Cat\",\"banana\", 1,22,3,True}\n",
    "\n",
    "print(len(a))"
   ]
  },
  {
   "cell_type": "markdown",
   "id": "521f1d46",
   "metadata": {},
   "source": [
    "# set item data type"
   ]
  },
  {
   "cell_type": "code",
   "execution_count": 11,
   "id": "45400644",
   "metadata": {},
   "outputs": [
    {
     "name": "stdout",
     "output_type": "stream",
     "text": [
      "{1, 2, 3, 4} {1.1, 1.2, 111.3} {'a', 'd', 'c'} {False, True}\n"
     ]
    }
   ],
   "source": [
    "x = {1,2,3,4}\n",
    "x1 = {1.1,1.2,111.3}\n",
    "x3 = {\"a\",\"c\",\"d\"}\n",
    "x4 = {True,False}\n",
    "print(x,x1,x3,x4)"
   ]
  },
  {
   "cell_type": "code",
   "execution_count": 13,
   "id": "cf4ba919",
   "metadata": {},
   "outputs": [
    {
     "name": "stdout",
     "output_type": "stream",
     "text": [
      "{True, 2, 2.3, (1+3j), 11, 'a', -2}\n"
     ]
    }
   ],
   "source": [
    "a = {11,2,2.3,-2,\"a\",True,(1+3j)}\n",
    "\n",
    "print(a)"
   ]
  },
  {
   "cell_type": "code",
   "execution_count": 14,
   "id": "bb9b5163",
   "metadata": {},
   "outputs": [
    {
     "ename": "TypeError",
     "evalue": "unhashable type: 'list'",
     "output_type": "error",
     "traceback": [
      "\u001b[1;31m---------------------------------------------------------------------------\u001b[0m",
      "\u001b[1;31mTypeError\u001b[0m                                 Traceback (most recent call last)",
      "Cell \u001b[1;32mIn[14], line 1\u001b[0m\n\u001b[1;32m----> 1\u001b[0m a \u001b[38;5;241m=\u001b[39m {[\u001b[38;5;241m11\u001b[39m,\u001b[38;5;241m2\u001b[39m,\u001b[38;5;241m2.3\u001b[39m,\u001b[38;5;241m-\u001b[39m\u001b[38;5;241m2\u001b[39m,\u001b[38;5;124m\"\u001b[39m\u001b[38;5;124ma\u001b[39m\u001b[38;5;124m\"\u001b[39m,\u001b[38;5;28;01mTrue\u001b[39;00m,(\u001b[38;5;241m1\u001b[39m\u001b[38;5;241m+\u001b[39m\u001b[38;5;241m3\u001b[39mj)]}\n\u001b[0;32m      3\u001b[0m \u001b[38;5;28mprint\u001b[39m(a)\n",
      "\u001b[1;31mTypeError\u001b[0m: unhashable type: 'list'"
     ]
    }
   ],
   "source": [
    "a = {[11,2,2.3,-2,\"a\",True,(1+3j)]}\n",
    "\n",
    "print(a)\n",
    "      \n",
    "      "
   ]
  },
  {
   "cell_type": "code",
   "execution_count": 16,
   "id": "2c92629d",
   "metadata": {},
   "outputs": [
    {
     "name": "stdout",
     "output_type": "stream",
     "text": [
      "{(11, 2, 2.3, -2, 'a', True, (1+3j))}\n",
      "<class 'set'>\n"
     ]
    }
   ],
   "source": [
    "a = {(11,2,2.3,-2,\"a\",True,(1+3j))} #set into the Tuple \n",
    "\n",
    "\n",
    "print(a)\n",
    "\n",
    "print(type(a))"
   ]
  },
  {
   "cell_type": "code",
   "execution_count": 17,
   "id": "1e5f60ce",
   "metadata": {},
   "outputs": [
    {
     "ename": "TypeError",
     "evalue": "unhashable type: 'set'",
     "output_type": "error",
     "traceback": [
      "\u001b[1;31m---------------------------------------------------------------------------\u001b[0m",
      "\u001b[1;31mTypeError\u001b[0m                                 Traceback (most recent call last)",
      "Cell \u001b[1;32mIn[17], line 1\u001b[0m\n\u001b[1;32m----> 1\u001b[0m a \u001b[38;5;241m=\u001b[39m {{\u001b[38;5;241m1\u001b[39m,\u001b[38;5;241m2\u001b[39m,\u001b[38;5;241m3\u001b[39m},{\u001b[38;5;241m1\u001b[39m,\u001b[38;5;241m2\u001b[39m,\u001b[38;5;241m3\u001b[39m,\u001b[38;5;241m4\u001b[39m,\u001b[38;5;241m5\u001b[39m,\u001b[38;5;241m6\u001b[39m}}\n\u001b[0;32m      3\u001b[0m \u001b[38;5;28mprint\u001b[39m(a)\n",
      "\u001b[1;31mTypeError\u001b[0m: unhashable type: 'set'"
     ]
    }
   ],
   "source": [
    "a = {{1,2,3},{1,2,3,4,5,6}}\n",
    "\n",
    "print(a)"
   ]
  },
  {
   "cell_type": "markdown",
   "id": "f4ead0fa",
   "metadata": {},
   "source": [
    "# Set() Constructor"
   ]
  },
  {
   "cell_type": "code",
   "execution_count": 18,
   "id": "820bc7e3",
   "metadata": {},
   "outputs": [
    {
     "name": "stdout",
     "output_type": "stream",
     "text": [
      "{'a', 'apple', 'n'}\n",
      "<class 'set'>\n"
     ]
    }
   ],
   "source": [
    "s = set((\"apple\",\"a\",\"n\"))\n",
    "print(s)\n",
    "print(type(s))"
   ]
  },
  {
   "cell_type": "markdown",
   "id": "a6d1684c",
   "metadata": {},
   "source": [
    "# empty set"
   ]
  },
  {
   "cell_type": "code",
   "execution_count": 20,
   "id": "e2488984",
   "metadata": {},
   "outputs": [
    {
     "name": "stdout",
     "output_type": "stream",
     "text": [
      "{}\n",
      "<class 'dict'>\n"
     ]
    }
   ],
   "source": [
    "a = {}\n",
    "\n",
    "print(a)\n",
    "\n",
    "print(type(a))"
   ]
  },
  {
   "cell_type": "code",
   "execution_count": 21,
   "id": "3e54eb36",
   "metadata": {},
   "outputs": [
    {
     "name": "stdout",
     "output_type": "stream",
     "text": [
      "set()\n",
      "<class 'set'>\n"
     ]
    }
   ],
   "source": [
    "empty = set()\n",
    "print(empty)\n",
    "print(type(empty))"
   ]
  },
  {
   "cell_type": "markdown",
   "id": "dc90242a",
   "metadata": {},
   "source": [
    "# access the item in set"
   ]
  },
  {
   "cell_type": "code",
   "execution_count": 26,
   "id": "56657c98",
   "metadata": {},
   "outputs": [
    {
     "name": "stdout",
     "output_type": "stream",
     "text": [
      "a\n",
      "f\n",
      "c\n",
      "d\n"
     ]
    }
   ],
   "source": [
    "a = {\"a\",\"c\",\"f\",\"d\"}\n",
    "\n",
    "for x in a:\n",
    "    print(x)"
   ]
  },
  {
   "cell_type": "markdown",
   "id": "16e6ce87",
   "metadata": {},
   "source": [
    "# check if item is present in the set"
   ]
  },
  {
   "cell_type": "code",
   "execution_count": 27,
   "id": "023f8b47",
   "metadata": {},
   "outputs": [
    {
     "name": "stdout",
     "output_type": "stream",
     "text": [
      "True\n"
     ]
    }
   ],
   "source": [
    "a = {\"set\",\"data\",\"python\"}\n",
    "\n",
    "print(\"data\" in a)"
   ]
  },
  {
   "cell_type": "code",
   "execution_count": 28,
   "id": "4e620e5e",
   "metadata": {},
   "outputs": [
    {
     "name": "stdout",
     "output_type": "stream",
     "text": [
      "False\n"
     ]
    }
   ],
   "source": [
    "a = {\"set\",\"data\",\"python\"}\n",
    "\n",
    "print(\"code\" in a)"
   ]
  },
  {
   "cell_type": "markdown",
   "id": "ff77c136",
   "metadata": {},
   "source": [
    "# add item in set"
   ]
  },
  {
   "cell_type": "code",
   "execution_count": 29,
   "id": "8ad1ad9b",
   "metadata": {},
   "outputs": [
    {
     "name": "stdout",
     "output_type": "stream",
     "text": [
      "{'python', 100, 'data', 'set'}\n"
     ]
    }
   ],
   "source": [
    "a = {\"set\",\"data\",\"python\"}\n",
    "\n",
    "a.add(100)\n",
    "\n",
    "print(a)"
   ]
  },
  {
   "cell_type": "code",
   "execution_count": 30,
   "id": "8322cd82",
   "metadata": {},
   "outputs": [
    {
     "name": "stdout",
     "output_type": "stream",
     "text": [
      "{1, 2, 3, 4, 5, 'ac', 'data', 'Python'}\n"
     ]
    }
   ],
   "source": [
    "a = {\"data\",\"Python\",\"ac\"}\n",
    "b = {1,2,3,4,5}\n",
    "\n",
    "a.update(b)\n",
    "\n",
    "print(a)"
   ]
  },
  {
   "cell_type": "markdown",
   "id": "c1aaad52",
   "metadata": {},
   "source": [
    "# remove set item"
   ]
  },
  {
   "cell_type": "code",
   "execution_count": 31,
   "id": "f15a6832",
   "metadata": {},
   "outputs": [
    {
     "name": "stdout",
     "output_type": "stream",
     "text": [
      "{1, 2, 3, 4, 5, 'data', 'Python'}\n"
     ]
    }
   ],
   "source": [
    "a = {1, 2, 3, 4, 5, 'ac', 'data', 'Python'}\n",
    "\n",
    "a.remove(\"ac\")\n",
    "\n",
    "print(a)"
   ]
  },
  {
   "cell_type": "code",
   "execution_count": 32,
   "id": "ade00572",
   "metadata": {},
   "outputs": [
    {
     "name": "stdout",
     "output_type": "stream",
     "text": [
      "{2, 3, 4, 5, 'ac', 'data', 'Python'}\n"
     ]
    }
   ],
   "source": [
    "a = {1, 2, 3, 4, 5, 'ac', 'data', 'Python'}\n",
    "\n",
    "b = a.pop()\n",
    "\n",
    "print(a)"
   ]
  },
  {
   "cell_type": "code",
   "execution_count": 33,
   "id": "b6311e0b",
   "metadata": {},
   "outputs": [
    {
     "name": "stdout",
     "output_type": "stream",
     "text": [
      "set()\n"
     ]
    }
   ],
   "source": [
    "a = {1, 2, 3, 4, 5, 'ac', 'data', 'Python'}\n",
    "\n",
    "a.clear()\n",
    "\n",
    "print(a)"
   ]
  },
  {
   "cell_type": "code",
   "execution_count": 34,
   "id": "98519b25",
   "metadata": {},
   "outputs": [
    {
     "ename": "NameError",
     "evalue": "name 'a' is not defined",
     "output_type": "error",
     "traceback": [
      "\u001b[1;31m---------------------------------------------------------------------------\u001b[0m",
      "\u001b[1;31mNameError\u001b[0m                                 Traceback (most recent call last)",
      "Cell \u001b[1;32mIn[34], line 5\u001b[0m\n\u001b[0;32m      1\u001b[0m a \u001b[38;5;241m=\u001b[39m {\u001b[38;5;241m1\u001b[39m, \u001b[38;5;241m2\u001b[39m, \u001b[38;5;241m3\u001b[39m, \u001b[38;5;241m4\u001b[39m, \u001b[38;5;241m5\u001b[39m, \u001b[38;5;124m'\u001b[39m\u001b[38;5;124mac\u001b[39m\u001b[38;5;124m'\u001b[39m, \u001b[38;5;124m'\u001b[39m\u001b[38;5;124mdata\u001b[39m\u001b[38;5;124m'\u001b[39m, \u001b[38;5;124m'\u001b[39m\u001b[38;5;124mPython\u001b[39m\u001b[38;5;124m'\u001b[39m}\n\u001b[0;32m      3\u001b[0m \u001b[38;5;28;01mdel\u001b[39;00m a\n\u001b[1;32m----> 5\u001b[0m \u001b[38;5;28mprint\u001b[39m(\u001b[43ma\u001b[49m)\n",
      "\u001b[1;31mNameError\u001b[0m: name 'a' is not defined"
     ]
    }
   ],
   "source": [
    "a = {1, 2, 3, 4, 5, 'ac', 'data', 'Python'}\n",
    "\n",
    "del a\n",
    "\n",
    "print(a)"
   ]
  },
  {
   "cell_type": "markdown",
   "id": "e090ba98",
   "metadata": {},
   "source": [
    "# join to set"
   ]
  },
  {
   "cell_type": "code",
   "execution_count": 36,
   "id": "7855faeb",
   "metadata": {},
   "outputs": [
    {
     "name": "stdout",
     "output_type": "stream",
     "text": [
      "{1, 2, 3, 4, 5, 'data', 'ac', 'Python'}\n"
     ]
    }
   ],
   "source": [
    "a = {1, 2, 3, 4, 5}\n",
    "\n",
    "s = {'ac', 'data', 'Python'}\n",
    "     \n",
    "d = a.union(s)\n",
    "     \n",
    "print(d)     "
   ]
  },
  {
   "cell_type": "markdown",
   "id": "98b54876",
   "metadata": {},
   "source": [
    "# write a program to fine the max and min value"
   ]
  },
  {
   "cell_type": "code",
   "execution_count": 38,
   "id": "c7c084d7",
   "metadata": {},
   "outputs": [
    {
     "name": "stdout",
     "output_type": "stream",
     "text": [
      "original set \n",
      "{2, 4, 5, 6, 7, 8, 23}\n",
      "maz value of set\n",
      "2\n"
     ]
    }
   ],
   "source": [
    "a = {2,23,4,5,6,7,8}\n",
    "\n",
    "print(\"original set \")\n",
    "\n",
    "print(a)\n",
    "\n",
    "print(\"maz value of set\")\n",
    "\n",
    "print(min(a))\n",
    "\n"
   ]
  },
  {
   "cell_type": "markdown",
   "id": "eb0c7244",
   "metadata": {},
   "source": [
    "# return a identical item from two sets"
   ]
  },
  {
   "cell_type": "code",
   "execution_count": 40,
   "id": "6bfdbf32",
   "metadata": {},
   "outputs": [
    {
     "name": "stdout",
     "output_type": "stream",
     "text": [
      "{40, 50, 30}\n"
     ]
    }
   ],
   "source": [
    "a = {10,20,30,40,50}\n",
    "b = {30,40,50,60,70}\n",
    "\n",
    "print(a.intersection(b))\n",
    "\n",
    " \n"
   ]
  },
  {
   "cell_type": "code",
   "execution_count": null,
   "id": "86142b8f",
   "metadata": {},
   "outputs": [],
   "source": []
  },
  {
   "cell_type": "code",
   "execution_count": null,
   "id": "f449783b",
   "metadata": {},
   "outputs": [],
   "source": []
  },
  {
   "cell_type": "code",
   "execution_count": null,
   "id": "08390807",
   "metadata": {},
   "outputs": [],
   "source": []
  },
  {
   "cell_type": "code",
   "execution_count": null,
   "id": "e9dceaec",
   "metadata": {},
   "outputs": [],
   "source": []
  },
  {
   "cell_type": "code",
   "execution_count": null,
   "id": "a3164a2a-74a2-44a3-9b1a-a1328abcc1b3",
   "metadata": {},
   "outputs": [],
   "source": []
  },
  {
   "cell_type": "code",
   "execution_count": null,
   "id": "82a18862-a114-4a4b-811d-f125d7ed0c6b",
   "metadata": {},
   "outputs": [],
   "source": []
  },
  {
   "cell_type": "code",
   "execution_count": null,
   "id": "6a2693ba-817d-4389-a041-95a561b0417b",
   "metadata": {},
   "outputs": [],
   "source": []
  },
  {
   "cell_type": "code",
   "execution_count": null,
   "id": "d8c1d535-8290-45ad-bb51-def7c1629b23",
   "metadata": {},
   "outputs": [],
   "source": []
  },
  {
   "cell_type": "code",
   "execution_count": null,
   "id": "fc15a826-2ee5-4efd-9f02-d19fda5e994e",
   "metadata": {},
   "outputs": [],
   "source": []
  },
  {
   "cell_type": "code",
   "execution_count": null,
   "id": "5c520fa7-77d1-49cb-b198-71357b1dd4ed",
   "metadata": {},
   "outputs": [],
   "source": []
  },
  {
   "cell_type": "code",
   "execution_count": null,
   "id": "c8223e1a-8ab4-4348-9e92-7ce8305d9c0d",
   "metadata": {},
   "outputs": [],
   "source": []
  },
  {
   "cell_type": "code",
   "execution_count": null,
   "id": "5f137aa0-21ac-40be-8220-73d743762560",
   "metadata": {},
   "outputs": [],
   "source": []
  },
  {
   "cell_type": "code",
   "execution_count": null,
   "id": "451e9595-5bb1-4994-82bf-6969ae664c7f",
   "metadata": {},
   "outputs": [],
   "source": []
  },
  {
   "cell_type": "code",
   "execution_count": null,
   "id": "88f1ae3f-421a-4697-ad9f-8574079e15b1",
   "metadata": {},
   "outputs": [],
   "source": []
  },
  {
   "cell_type": "code",
   "execution_count": null,
   "id": "0d990886-88e6-4fc0-9a72-6175f87deb14",
   "metadata": {},
   "outputs": [],
   "source": []
  },
  {
   "cell_type": "code",
   "execution_count": null,
   "id": "9696701f-d19d-4be7-9735-9a6b5f698ee2",
   "metadata": {},
   "outputs": [],
   "source": []
  },
  {
   "cell_type": "code",
   "execution_count": null,
   "id": "b9b4732f-8377-4f77-9799-e50ae5417dec",
   "metadata": {},
   "outputs": [],
   "source": []
  },
  {
   "cell_type": "code",
   "execution_count": null,
   "id": "93da63ae-28cb-458a-b5b5-563e38b3cc14",
   "metadata": {},
   "outputs": [],
   "source": []
  },
  {
   "cell_type": "code",
   "execution_count": null,
   "id": "7de5083a-145f-4d78-a3a2-66ea839c9e5c",
   "metadata": {},
   "outputs": [],
   "source": []
  },
  {
   "cell_type": "code",
   "execution_count": null,
   "id": "ae16945b-f231-4db5-ae92-120dbefaee2a",
   "metadata": {},
   "outputs": [],
   "source": []
  },
  {
   "cell_type": "code",
   "execution_count": null,
   "id": "8408df41-6db0-4570-868b-991a369004aa",
   "metadata": {},
   "outputs": [],
   "source": []
  },
  {
   "cell_type": "code",
   "execution_count": null,
   "id": "ee428789-e96c-48bf-93a3-65035e597c4b",
   "metadata": {},
   "outputs": [],
   "source": []
  },
  {
   "cell_type": "code",
   "execution_count": null,
   "id": "f14d8408-8840-4a2a-b581-d93d8eed1cc0",
   "metadata": {},
   "outputs": [],
   "source": []
  },
  {
   "cell_type": "code",
   "execution_count": null,
   "id": "560be918-68d9-4e29-b8ee-3babf48967a4",
   "metadata": {},
   "outputs": [],
   "source": []
  },
  {
   "cell_type": "code",
   "execution_count": null,
   "id": "f388aa2c-0b9c-409f-a085-b4b2087c3dde",
   "metadata": {},
   "outputs": [],
   "source": []
  },
  {
   "cell_type": "code",
   "execution_count": null,
   "id": "acda1c0a-eafb-4514-bdfd-a2a291d6db58",
   "metadata": {},
   "outputs": [],
   "source": []
  },
  {
   "cell_type": "code",
   "execution_count": null,
   "id": "a7ac1772-fa50-4248-9690-854c6a8d5ee5",
   "metadata": {},
   "outputs": [],
   "source": []
  },
  {
   "cell_type": "code",
   "execution_count": null,
   "id": "2f7da446-f71b-47cf-8cc2-317b3a4f2351",
   "metadata": {},
   "outputs": [],
   "source": []
  },
  {
   "cell_type": "code",
   "execution_count": null,
   "id": "299219ec-0c6d-4d45-ac61-410f4ce23bb7",
   "metadata": {},
   "outputs": [],
   "source": []
  },
  {
   "cell_type": "code",
   "execution_count": null,
   "id": "dafb4f7c-3eb1-4090-a720-5e091608d7a5",
   "metadata": {},
   "outputs": [],
   "source": []
  },
  {
   "cell_type": "code",
   "execution_count": null,
   "id": "cab7312a-af71-42cc-9262-c871da05a973",
   "metadata": {},
   "outputs": [],
   "source": []
  },
  {
   "cell_type": "code",
   "execution_count": null,
   "id": "b39f4e17-37e0-4c84-aebb-b22ace83bae9",
   "metadata": {},
   "outputs": [],
   "source": []
  }
 ],
 "metadata": {
  "kernelspec": {
   "display_name": "Python 3 (ipykernel)",
   "language": "python",
   "name": "python3"
  },
  "language_info": {
   "codemirror_mode": {
    "name": "ipython",
    "version": 3
   },
   "file_extension": ".py",
   "mimetype": "text/x-python",
   "name": "python",
   "nbconvert_exporter": "python",
   "pygments_lexer": "ipython3",
   "version": "3.8.19"
  }
 },
 "nbformat": 4,
 "nbformat_minor": 5
}
