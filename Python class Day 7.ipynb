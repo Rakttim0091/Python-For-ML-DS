{
 "cells": [
  {
   "cell_type": "markdown",
   "id": "5fc681dc",
   "metadata": {},
   "source": [
    "# List in Python"
   ]
  },
  {
   "cell_type": "markdown",
   "id": "1c002fd8",
   "metadata": {},
   "source": [
    "# creating a list"
   ]
  },
  {
   "cell_type": "code",
   "execution_count": 1,
   "id": "2e1e57c2",
   "metadata": {},
   "outputs": [
    {
     "name": "stdout",
     "output_type": "stream",
     "text": [
      "['apple', 'banana', 'cherry']\n",
      "<class 'list'>\n"
     ]
    }
   ],
   "source": [
    "mylist = [\"apple\",\"banana\",\"cherry\"]\n",
    "print(mylist)\n",
    "print(type(mylist))"
   ]
  },
  {
   "cell_type": "markdown",
   "id": "e5c95a29",
   "metadata": {},
   "source": [
    "# allow duplicates"
   ]
  },
  {
   "cell_type": "code",
   "execution_count": 2,
   "id": "c051c9b1",
   "metadata": {},
   "outputs": [
    {
     "name": "stdout",
     "output_type": "stream",
     "text": [
      "['apple', 'apple', 'banana', 'cherry']\n"
     ]
    }
   ],
   "source": [
    "mylist = [\"apple\",\"apple\",\"banana\",\"cherry\"] \n",
    "print(mylist)"
   ]
  },
  {
   "cell_type": "markdown",
   "id": "9a0d7047",
   "metadata": {},
   "source": [
    "# data types"
   ]
  },
  {
   "cell_type": "code",
   "execution_count": 3,
   "id": "8fe380e1",
   "metadata": {},
   "outputs": [
    {
     "name": "stdout",
     "output_type": "stream",
     "text": [
      "['apple', 'banana', 'cherry'] [2, 3, 4, 5]\n"
     ]
    }
   ],
   "source": [
    "list1 = [\"apple\",\"banana\",\"cherry\"]\n",
    "list2 = [2,3,4,5]\n",
    "list3 = [5.5,454.77,656.34]\n",
    "list4 = [True,False,True]\n",
    "\n",
    "print(list1,list2)"
   ]
  },
  {
   "cell_type": "code",
   "execution_count": 4,
   "id": "4b180fb7",
   "metadata": {},
   "outputs": [
    {
     "name": "stdout",
     "output_type": "stream",
     "text": [
      "[12, 2, 3.3, 'hello', True, False]\n"
     ]
    }
   ],
   "source": [
    "a = [12,2,3.3,\"hello\",True,False]\n",
    "print(a)"
   ]
  },
  {
   "cell_type": "markdown",
   "id": "41cd1c57",
   "metadata": {},
   "source": [
    "# list length"
   ]
  },
  {
   "cell_type": "code",
   "execution_count": 6,
   "id": "03b5d2a7",
   "metadata": {},
   "outputs": [
    {
     "name": "stdout",
     "output_type": "stream",
     "text": [
      "7\n"
     ]
    }
   ],
   "source": [
    "a = [12,2,3.3,-55,\"hello\",True,False]\n",
    "print(len(a))"
   ]
  },
  {
   "cell_type": "markdown",
   "id": "1d9b8086",
   "metadata": {},
   "source": [
    "# access items"
   ]
  },
  {
   "cell_type": "code",
   "execution_count": 7,
   "id": "bba5e7de",
   "metadata": {},
   "outputs": [
    {
     "name": "stdout",
     "output_type": "stream",
     "text": [
      "15\n"
     ]
    }
   ],
   "source": [
    "thislist = [12,15,13,17,8,7,77,9,6554,666]\n",
    "print(thislist[1])"
   ]
  },
  {
   "cell_type": "code",
   "execution_count": 8,
   "id": "308e4666",
   "metadata": {},
   "outputs": [
    {
     "name": "stdout",
     "output_type": "stream",
     "text": [
      "6554\n"
     ]
    }
   ],
   "source": [
    "thislist = [12,15,13,17,8,7,77,9,6554,666]\n",
    "print(thislist[8])"
   ]
  },
  {
   "cell_type": "code",
   "execution_count": 9,
   "id": "b29c14c6",
   "metadata": {},
   "outputs": [
    {
     "name": "stdout",
     "output_type": "stream",
     "text": [
      "666\n"
     ]
    }
   ],
   "source": [
    "thislist = [12,15,13,17,8,7,77,9,6554,666]\n",
    "print(thislist[-1])"
   ]
  },
  {
   "cell_type": "markdown",
   "id": "dcd68f6c",
   "metadata": {},
   "source": [
    "# Slicing of list"
   ]
  },
  {
   "cell_type": "code",
   "execution_count": 10,
   "id": "a21c9dd3",
   "metadata": {},
   "outputs": [
    {
     "name": "stdout",
     "output_type": "stream",
     "text": [
      "[12, 15, 13]\n"
     ]
    }
   ],
   "source": [
    "thislist = [12,15,13,17,8,7,77,9,6554,666]\n",
    "print(thislist[0:3])"
   ]
  },
  {
   "cell_type": "code",
   "execution_count": 14,
   "id": "e12cb0e9",
   "metadata": {},
   "outputs": [
    {
     "name": "stdout",
     "output_type": "stream",
     "text": [
      "[17, 8, 7, 77, 9, 6554]\n"
     ]
    }
   ],
   "source": [
    "thislist = [12,15,13,17,8,7,77,9,6554,666]\n",
    "print(thislist[3:9])"
   ]
  },
  {
   "cell_type": "markdown",
   "id": "964d7f86",
   "metadata": {},
   "source": [
    "# change items "
   ]
  },
  {
   "cell_type": "code",
   "execution_count": 15,
   "id": "9eabed28",
   "metadata": {},
   "outputs": [
    {
     "name": "stdout",
     "output_type": "stream",
     "text": [
      "['apple', 'mango', 'cherry']\n"
     ]
    }
   ],
   "source": [
    "list = [\"apple\",\"banana\",\"cherry\"]\n",
    "list[1] = \"mango\"\n",
    "print(list)"
   ]
  },
  {
   "cell_type": "code",
   "execution_count": 16,
   "id": "4e38c2c2",
   "metadata": {},
   "outputs": [
    {
     "name": "stdout",
     "output_type": "stream",
     "text": [
      "[1, 2, 3, 4, 8, -66, 8.8]\n"
     ]
    }
   ],
   "source": [
    "list = [1,2,3,4,-5,-66,8.8]\n",
    "list[4] = 8\n",
    "print(list)"
   ]
  },
  {
   "cell_type": "markdown",
   "id": "00385a9f",
   "metadata": {},
   "source": [
    "# change a range of item value"
   ]
  },
  {
   "cell_type": "code",
   "execution_count": 17,
   "id": "c1fa5382",
   "metadata": {},
   "outputs": [
    {
     "name": "stdout",
     "output_type": "stream",
     "text": [
      "[1, 2, 'book', 'pen', 'paper', -5, -66, 8.8]\n"
     ]
    }
   ],
   "source": [
    "list = [1,2,3,4,-5,-66,8.8]\n",
    "list[2:4] = [\"book\",\"pen\",\"paper\"]\n",
    "print(list)"
   ]
  },
  {
   "cell_type": "markdown",
   "id": "017457d1",
   "metadata": {},
   "source": [
    "# add on list"
   ]
  },
  {
   "cell_type": "code",
   "execution_count": 19,
   "id": "cbe4b192",
   "metadata": {},
   "outputs": [
    {
     "name": "stdout",
     "output_type": "stream",
     "text": [
      "[12, 13, 1, 2, 3, 4, 56, 7, 8, 9]\n",
      "[12, 13, 1, 2, 3, 4, 56, 7, 8, 9, -9]\n"
     ]
    }
   ],
   "source": [
    "a = [12,13,1,2,3,4,56,7,8,9]\n",
    "print(a)\n",
    "a.append(-9)\n",
    "print(a)"
   ]
  },
  {
   "cell_type": "markdown",
   "id": "e23dac1d",
   "metadata": {},
   "source": [
    "# remove funcation on list"
   ]
  },
  {
   "cell_type": "code",
   "execution_count": 20,
   "id": "7099a216",
   "metadata": {},
   "outputs": [
    {
     "name": "stdout",
     "output_type": "stream",
     "text": [
      "[44, 454, 323, 555, 45, 'paper']\n"
     ]
    }
   ],
   "source": [
    "m = [2.2,44,454,323,555,45,\"paper\"]\n",
    "m.remove(2.2)\n",
    "print(m)"
   ]
  },
  {
   "cell_type": "markdown",
   "id": "4c955e35",
   "metadata": {},
   "source": [
    "# revers on list"
   ]
  },
  {
   "cell_type": "code",
   "execution_count": 21,
   "id": "63eda28e",
   "metadata": {},
   "outputs": [
    {
     "name": "stdout",
     "output_type": "stream",
     "text": [
      "['mango', 'paper', 45, 555, 323, 454, 44, 2.2]\n"
     ]
    }
   ],
   "source": [
    "m = [2.2,44,454,323,555,45,\"paper\",\"mango\"]\n",
    "m.reverse()\n",
    "print(m)"
   ]
  },
  {
   "cell_type": "code",
   "execution_count": 24,
   "id": "b9877f9c",
   "metadata": {},
   "outputs": [
    {
     "name": "stdout",
     "output_type": "stream",
     "text": [
      "10\n",
      "889\n"
     ]
    }
   ],
   "source": [
    "l = [14,15,12,78,-7,56,666,-56,55,56]\n",
    "print(len(l))\n",
    "a = 0\n",
    "for i in range(10):\n",
    "    a = a+l[i]\n",
    "    i = i+1\n",
    "print(a)    "
   ]
  },
  {
   "cell_type": "markdown",
   "id": "7eed93f2",
   "metadata": {},
   "source": [
    "# multiply all the number of the list"
   ]
  },
  {
   "cell_type": "code",
   "execution_count": 27,
   "id": "e252a842",
   "metadata": {},
   "outputs": [
    {
     "name": "stdout",
     "output_type": "stream",
     "text": [
      "10\n",
      "0\n"
     ]
    }
   ],
   "source": [
    "a = [1,2,3,4,5,6,7,8,9,10]\n",
    "print(len(a))\n",
    "l = 0\n",
    "for i in range(10):\n",
    "    l = la[i]\n",
    "    i = i+1\n",
    "print(l)"
   ]
  },
  {
   "cell_type": "code",
   "execution_count": null,
   "id": "32575642",
   "metadata": {},
   "outputs": [],
   "source": []
  }
 ],
 "metadata": {
  "kernelspec": {
   "display_name": "Python 3 (ipykernel)",
   "language": "python",
   "name": "python3"
  },
  "language_info": {
   "codemirror_mode": {
    "name": "ipython",
    "version": 3
   },
   "file_extension": ".py",
   "mimetype": "text/x-python",
   "name": "python",
   "nbconvert_exporter": "python",
   "pygments_lexer": "ipython3",
   "version": "3.8.19"
  }
 },
 "nbformat": 4,
 "nbformat_minor": 5
}
