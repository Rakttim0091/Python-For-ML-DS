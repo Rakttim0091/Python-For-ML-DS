{
 "cells": [
  {
   "cell_type": "markdown",
   "id": "8913758d",
   "metadata": {},
   "source": [
    "# String in python"
   ]
  },
  {
   "cell_type": "markdown",
   "id": "f35ee52d",
   "metadata": {},
   "source": [
    "creating string in python"
   ]
  },
  {
   "cell_type": "code",
   "execution_count": 1,
   "id": "6a6d69a8",
   "metadata": {},
   "outputs": [
    {
     "name": "stdout",
     "output_type": "stream",
     "text": [
      "Hello\n"
     ]
    }
   ],
   "source": [
    "a = \"Hello\"\n",
    "print(a)\n"
   ]
  },
  {
   "cell_type": "code",
   "execution_count": 4,
   "id": "b2182d41",
   "metadata": {},
   "outputs": [
    {
     "name": "stdout",
     "output_type": "stream",
     "text": [
      "this is rakttim biswas\n",
      "<class 'str'>\n"
     ]
    }
   ],
   "source": [
    "b = \"this is rakttim biswas\"\n",
    "print(b)\n",
    "print(type(b))"
   ]
  },
  {
   "cell_type": "markdown",
   "id": "6a1c0b20",
   "metadata": {},
   "source": [
    "multiline string"
   ]
  },
  {
   "cell_type": "code",
   "execution_count": 9,
   "id": "b6af5f19",
   "metadata": {},
   "outputs": [
    {
     "ename": "SyntaxError",
     "evalue": "EOL while scanning string literal (3932415406.py, line 3)",
     "output_type": "error",
     "traceback": [
      "\u001b[1;36m  Cell \u001b[1;32mIn[9], line 3\u001b[1;36m\u001b[0m\n\u001b[1;33m    divided during the Partition of India in 1947 as part of a Muslim union with Pakistan, which it separated from in a bloody independence war in 1971.[22] The country has a Bengali Muslim majority. Ancient Bengal was known as Gangaridai and was a bastion of pre-Islamic kingdoms. Muslim conquests after 1204 heralded the sultanate and Mughal periods, during which an independent Bengal Sultanate and a wealthy Mughal Bengal transformed the region into an important centre of regional affairs, trade, and diplomacy. After the Battle of Plass \"\"\"\"\u001b[0m\n\u001b[1;37m                                                                                                                                                                                                                                                                                                                                                                                                                                                                                                                                                                   \n^\u001b[0m\n\u001b[1;31mSyntaxError\u001b[0m\u001b[1;31m:\u001b[0m EOL while scanning string literal\n"
     ]
    }
   ],
   "source": [
    "b = \"\"\" Bangladesh forms the sovereign part of the \n",
    "historic and ethnolinguistic region of Bengal, which was \n",
    "divided during the Partition of India in 1947 as part of a Muslim union with Pakistan, which it separated from in a bloody independence war in 1971.[22] The country has a Bengali Muslim majority. Ancient Bengal was known as Gangaridai and was a bastion of pre-Islamic kingdoms. Muslim conquests after 1204 heralded the sultanate and Mughal periods, during which an independent Bengal Sultanate and a wealthy Mughal Bengal transformed the region into an important centre of regional affairs, trade, and diplomacy. After the Battle of Plass \"\"\"\"\n",
    "print(b)"
   ]
  },
  {
   "cell_type": "markdown",
   "id": "a6d0913b",
   "metadata": {},
   "source": [
    "# indexing of string"
   ]
  },
  {
   "cell_type": "code",
   "execution_count": 14,
   "id": "e241ee34",
   "metadata": {},
   "outputs": [
    {
     "name": "stdout",
     "output_type": "stream",
     "text": [
      "d\n"
     ]
    }
   ],
   "source": [
    "a = \"Hello student\"\n",
    "print(a[-4])"
   ]
  },
  {
   "cell_type": "markdown",
   "id": "b22870d8",
   "metadata": {},
   "source": [
    "# slicing of string"
   ]
  },
  {
   "cell_type": "code",
   "execution_count": 18,
   "id": "ad687c5b",
   "metadata": {},
   "outputs": [
    {
     "name": "stdout",
     "output_type": "stream",
     "text": [
      "student how \n"
     ]
    }
   ],
   "source": [
    "a = \"Hello student how are you\"\n",
    "\n",
    "print(a[6:18])"
   ]
  },
  {
   "cell_type": "code",
   "execution_count": 21,
   "id": "99949154",
   "metadata": {},
   "outputs": [
    {
     "name": "stdout",
     "output_type": "stream",
     "text": [
      "Hlosuethwa\n"
     ]
    }
   ],
   "source": [
    "a = \"Hello student how are you\"\n",
    "\n",
    "print(a[0:20:2])"
   ]
  },
  {
   "cell_type": "code",
   "execution_count": 23,
   "id": "fcdf4b7e",
   "metadata": {},
   "outputs": [
    {
     "name": "stdout",
     "output_type": "stream",
     "text": [
      "?uoy era woh tneduts olleH\n"
     ]
    }
   ],
   "source": [
    "a = \"Hello student how are you?\"\n",
    "\n",
    "print(a[::-1])"
   ]
  },
  {
   "cell_type": "markdown",
   "id": "eae73e72",
   "metadata": {},
   "source": [
    "# finding the length the string"
   ]
  },
  {
   "cell_type": "code",
   "execution_count": 24,
   "id": "312dcbe4",
   "metadata": {},
   "outputs": [
    {
     "name": "stdout",
     "output_type": "stream",
     "text": [
      "53\n"
     ]
    }
   ],
   "source": [
    "a = \"divided during the Partition of India in 1947 as part\"\n",
    "print(len(a))"
   ]
  },
  {
   "cell_type": "code",
   "execution_count": 25,
   "id": "7c7e2bc2",
   "metadata": {},
   "outputs": [
    {
     "name": "stdout",
     "output_type": "stream",
     "text": [
      "11\n"
     ]
    }
   ],
   "source": [
    "b = \"hello world\"\n",
    "print(len(b))"
   ]
  },
  {
   "cell_type": "markdown",
   "id": "0f8dd1d9",
   "metadata": {},
   "source": [
    "# upper methode"
   ]
  },
  {
   "cell_type": "code",
   "execution_count": 27,
   "id": "de450afa",
   "metadata": {},
   "outputs": [
    {
     "name": "stdout",
     "output_type": "stream",
     "text": [
      "BANGLADESH\n"
     ]
    }
   ],
   "source": [
    "a = \"bangladesh\"\n",
    "\n",
    "print(a.upper())"
   ]
  },
  {
   "cell_type": "code",
   "execution_count": 31,
   "id": "f77e8ab9",
   "metadata": {},
   "outputs": [
    {
     "name": "stdout",
     "output_type": "stream",
     "text": [
      "bangladesh\n"
     ]
    }
   ],
   "source": [
    "a = \"BanglaDesh\"  #lower method use\n",
    "\n",
    "print(a.lower())"
   ]
  },
  {
   "cell_type": "markdown",
   "id": "052caad5",
   "metadata": {},
   "source": [
    "# Replace function"
   ]
  },
  {
   "cell_type": "code",
   "execution_count": 33,
   "id": "77ae3b9a",
   "metadata": {},
   "outputs": [
    {
     "name": "stdout",
     "output_type": "stream",
     "text": [
      "Bye how are you\n"
     ]
    }
   ],
   "source": [
    "a = \"hello how are you\"\n",
    "print(a.replace(\"hello\",\"Bye\"))"
   ]
  },
  {
   "cell_type": "code",
   "execution_count": 34,
   "id": "ef7c9f8e",
   "metadata": {},
   "outputs": [
    {
     "name": "stdout",
     "output_type": "stream",
     "text": [
      "hello how are sou\n"
     ]
    }
   ],
   "source": [
    "a = \"hello how are you\"\n",
    "print(a.replace(\"y\",\"s\"))"
   ]
  },
  {
   "cell_type": "code",
   "execution_count": 35,
   "id": "50569bfa",
   "metadata": {},
   "outputs": [
    {
     "name": "stdout",
     "output_type": "stream",
     "text": [
      "hello student\n"
     ]
    }
   ],
   "source": [
    "a = \"hello world\"\n",
    "print(a.replace(\"world\",\"student\"))"
   ]
  },
  {
   "cell_type": "markdown",
   "id": "e4274eb5",
   "metadata": {},
   "source": [
    "# find methode"
   ]
  },
  {
   "cell_type": "code",
   "execution_count": 36,
   "id": "beddf8c0",
   "metadata": {},
   "outputs": [
    {
     "name": "stdout",
     "output_type": "stream",
     "text": [
      "10\n"
     ]
    }
   ],
   "source": [
    "a = \"python is grate\"\n",
    "print(a.find(\"g\"))"
   ]
  },
  {
   "cell_type": "code",
   "execution_count": 37,
   "id": "a1aa514d",
   "metadata": {},
   "outputs": [
    {
     "name": "stdout",
     "output_type": "stream",
     "text": [
      "3\n"
     ]
    }
   ],
   "source": [
    "a = \"Rakttim\"\n",
    "print(a.find(\"t\"))"
   ]
  },
  {
   "cell_type": "code",
   "execution_count": null,
   "id": "457b7926",
   "metadata": {},
   "outputs": [],
   "source": []
  },
  {
   "cell_type": "code",
   "execution_count": null,
   "id": "dccf0d4c",
   "metadata": {},
   "outputs": [],
   "source": []
  }
 ],
 "metadata": {
  "kernelspec": {
   "display_name": "Python 3 (ipykernel)",
   "language": "python",
   "name": "python3"
  },
  "language_info": {
   "codemirror_mode": {
    "name": "ipython",
    "version": 3
   },
   "file_extension": ".py",
   "mimetype": "text/x-python",
   "name": "python",
   "nbconvert_exporter": "python",
   "pygments_lexer": "ipython3",
   "version": "3.8.19"
  }
 },
 "nbformat": 4,
 "nbformat_minor": 5
}
