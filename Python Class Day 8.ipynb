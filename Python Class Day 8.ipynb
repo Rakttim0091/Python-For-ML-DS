{
 "cells": [
  {
   "cell_type": "markdown",
   "id": "323aa5a6",
   "metadata": {},
   "source": [
    "# Tuples in Python"
   ]
  },
  {
   "cell_type": "markdown",
   "id": "98757b9f",
   "metadata": {},
   "source": [
    "creating a tuple"
   ]
  },
  {
   "cell_type": "code",
   "execution_count": 4,
   "id": "02f08006",
   "metadata": {},
   "outputs": [
    {
     "name": "stdout",
     "output_type": "stream",
     "text": [
      "(1, 2, 3, 3)\n",
      "<class 'tuple'>\n"
     ]
    }
   ],
   "source": [
    "my_tuple = (1,2,3,3)\n",
    "print(my_tuple)\n",
    "print(type(my_tuple))"
   ]
  },
  {
   "cell_type": "code",
   "execution_count": 16,
   "id": "d93e007b",
   "metadata": {},
   "outputs": [
    {
     "name": "stdout",
     "output_type": "stream",
     "text": [
      "(1, 'hello', 1.1, (5+5j))\n"
     ]
    }
   ],
   "source": [
    "a = (1,\"hello\",1.1,5+5j)\n",
    "print(a)"
   ]
  },
  {
   "cell_type": "markdown",
   "id": "cfab9534",
   "metadata": {},
   "source": [
    "# empty tuple"
   ]
  },
  {
   "cell_type": "code",
   "execution_count": 17,
   "id": "d405a449",
   "metadata": {},
   "outputs": [
    {
     "name": "stdout",
     "output_type": "stream",
     "text": [
      "()\n",
      "<class 'tuple'>\n"
     ]
    }
   ],
   "source": [
    "a = ()\n",
    "print(a)\n",
    "print(type(a))"
   ]
  },
  {
   "cell_type": "markdown",
   "id": "c8ec0030",
   "metadata": {},
   "source": [
    "# nested tuple"
   ]
  },
  {
   "cell_type": "code",
   "execution_count": 18,
   "id": "77496153",
   "metadata": {},
   "outputs": [
    {
     "name": "stdout",
     "output_type": "stream",
     "text": [
      "('data', [1, 2, 3], (1, 2, 3))\n",
      "<class 'tuple'>\n"
     ]
    }
   ],
   "source": [
    "a = (\"data\",[1,2,3],(1,2,3))\n",
    "print(a)\n",
    "print(type(a))"
   ]
  },
  {
   "cell_type": "code",
   "execution_count": 19,
   "id": "b8206df7",
   "metadata": {},
   "outputs": [
    {
     "name": "stdout",
     "output_type": "stream",
     "text": [
      "hello\n",
      "<class 'str'>\n"
     ]
    }
   ],
   "source": [
    "var = (\"hello\")\n",
    "print(var)\n",
    "print(type(var))"
   ]
  },
  {
   "cell_type": "code",
   "execution_count": 20,
   "id": "91c38c82",
   "metadata": {},
   "outputs": [
    {
     "name": "stdout",
     "output_type": "stream",
     "text": [
      "('hello',)\n",
      "<class 'tuple'>\n"
     ]
    }
   ],
   "source": [
    "var = (\"hello\",)\n",
    "print(var)\n",
    "print(type(var))"
   ]
  },
  {
   "cell_type": "markdown",
   "id": "1391cf6b",
   "metadata": {},
   "source": [
    "# tuple constructor"
   ]
  },
  {
   "cell_type": "code",
   "execution_count": 22,
   "id": "773b02db",
   "metadata": {},
   "outputs": [
    {
     "name": "stdout",
     "output_type": "stream",
     "text": [
      "('a', 'b', 'c')\n",
      "<class 'tuple'>\n"
     ]
    }
   ],
   "source": [
    "a = tuple((\"a\",\"b\",\"c\"))\n",
    "\n",
    "print(a)\n",
    "print(type(a))"
   ]
  },
  {
   "cell_type": "markdown",
   "id": "a4d53929",
   "metadata": {},
   "source": [
    "# Indexing"
   ]
  },
  {
   "cell_type": "code",
   "execution_count": 24,
   "id": "59d7d2bf",
   "metadata": {},
   "outputs": [
    {
     "name": "stdout",
     "output_type": "stream",
     "text": [
      "21\n",
      "334\n"
     ]
    }
   ],
   "source": [
    "a = (22,234,21,434,232,4,334,34)\n",
    "print(a[2])\n",
    "print(a[-2])"
   ]
  },
  {
   "cell_type": "code",
   "execution_count": 25,
   "id": "69dc13ae",
   "metadata": {},
   "outputs": [
    {
     "name": "stdout",
     "output_type": "stream",
     "text": [
      "data\n"
     ]
    }
   ],
   "source": [
    "a = (22,234,21,434,232,4,334,34,\"data\")\n",
    "print(a[-1])"
   ]
  },
  {
   "cell_type": "markdown",
   "id": "d628f851",
   "metadata": {},
   "source": [
    "# slicing"
   ]
  },
  {
   "cell_type": "code",
   "execution_count": 27,
   "id": "8d251b4f",
   "metadata": {},
   "outputs": [
    {
     "name": "stdout",
     "output_type": "stream",
     "text": [
      "(22, 234, 21)\n"
     ]
    }
   ],
   "source": [
    "a = (22,234,21,434,232,4,334,34,\"data\")\n",
    "len(a)\n",
    "print(a[0:3])"
   ]
  },
  {
   "cell_type": "code",
   "execution_count": 28,
   "id": "6353fc48",
   "metadata": {},
   "outputs": [
    {
     "name": "stdout",
     "output_type": "stream",
     "text": [
      "(22, 234, 21)\n"
     ]
    }
   ],
   "source": [
    "a = (22,234,21,434,232,4,334,34,\"data\")\n",
    "\n",
    "print(a[:3])"
   ]
  },
  {
   "cell_type": "code",
   "execution_count": 30,
   "id": "a3d7664c",
   "metadata": {},
   "outputs": [
    {
     "name": "stdout",
     "output_type": "stream",
     "text": [
      "(22, 234, 21, 434, 232, 4, 334, 34, 'data')\n"
     ]
    }
   ],
   "source": [
    "a = (22,234,21,434,232,4,334,34,\"data\")\n",
    "len(a)\n",
    "print(a[:])"
   ]
  },
  {
   "cell_type": "code",
   "execution_count": 31,
   "id": "62e6c3fa",
   "metadata": {},
   "outputs": [
    {
     "name": "stdout",
     "output_type": "stream",
     "text": [
      "(22, 21, 232, 334, 'data')\n"
     ]
    }
   ],
   "source": [
    "a = (22,234,21,434,232,4,334,34,\"data\")\n",
    "print(a[::2])"
   ]
  },
  {
   "cell_type": "markdown",
   "id": "c7445105",
   "metadata": {},
   "source": [
    "# reverse tuple"
   ]
  },
  {
   "cell_type": "code",
   "execution_count": 33,
   "id": "d349dd4d",
   "metadata": {},
   "outputs": [
    {
     "name": "stdout",
     "output_type": "stream",
     "text": [
      "('data', 34, 334, 4, 232, 434, 21, 234, 22)\n"
     ]
    }
   ],
   "source": [
    "a = (22,234,21,434,232,4,334,34,\"data\")\n",
    "print(a[::-1])"
   ]
  },
  {
   "cell_type": "code",
   "execution_count": 34,
   "id": "86f87240",
   "metadata": {},
   "outputs": [
    {
     "name": "stdout",
     "output_type": "stream",
     "text": [
      "(22, 234, 21, 434, 232, 4, 334, 34, 'data')\n",
      "(434, 232, 4, 334, 34, 'data')\n",
      "(22, 234, 21, 434)\n",
      "()\n"
     ]
    }
   ],
   "source": [
    "a = (22,234,21,434,232,4,334,34,\"data\")\n",
    "print(a[::])\n",
    "print(a[3:])\n",
    "print(a[:4])\n",
    "print(a[-2:-5])"
   ]
  },
  {
   "cell_type": "markdown",
   "id": "d5cee02f",
   "metadata": {},
   "source": [
    "# tuple to list conert"
   ]
  },
  {
   "cell_type": "code",
   "execution_count": 36,
   "id": "d5ea8cd2",
   "metadata": {},
   "outputs": [
    {
     "name": "stdout",
     "output_type": "stream",
     "text": [
      "(222, 22, 34, 33, 345, 2334, 30)\n"
     ]
    }
   ],
   "source": [
    "a = (222,22,34,33,345,2334)\n",
    "y = list(a)\n",
    "y.append(30)\n",
    "a = tuple(y)\n",
    "print(a)"
   ]
  },
  {
   "cell_type": "code",
   "execution_count": 37,
   "id": "3316c0f4",
   "metadata": {},
   "outputs": [
    {
     "name": "stdout",
     "output_type": "stream",
     "text": [
      "(222, 34, 33, 345, 2334)\n"
     ]
    }
   ],
   "source": [
    "a = (222,22,34,33,345,2334)\n",
    "y = list(a)\n",
    "y.remove(22)\n",
    "a = tuple(y)\n",
    "print(a)"
   ]
  },
  {
   "cell_type": "code",
   "execution_count": 38,
   "id": "682b999a",
   "metadata": {},
   "outputs": [],
   "source": [
    "a = (222,22,34,33,345,2334)\n",
    "del a"
   ]
  },
  {
   "cell_type": "code",
   "execution_count": 39,
   "id": "66a0937b",
   "metadata": {},
   "outputs": [
    {
     "ename": "NameError",
     "evalue": "name 'a' is not defined",
     "output_type": "error",
     "traceback": [
      "\u001b[1;31m---------------------------------------------------------------------------\u001b[0m",
      "\u001b[1;31mNameError\u001b[0m                                 Traceback (most recent call last)",
      "Cell \u001b[1;32mIn[39], line 1\u001b[0m\n\u001b[1;32m----> 1\u001b[0m \u001b[38;5;28mprint\u001b[39m(\u001b[43ma\u001b[49m)\n",
      "\u001b[1;31mNameError\u001b[0m: name 'a' is not defined"
     ]
    }
   ],
   "source": [
    "print(a)"
   ]
  },
  {
   "cell_type": "markdown",
   "id": "bcbd4869",
   "metadata": {},
   "source": [
    "# loop"
   ]
  },
  {
   "cell_type": "code",
   "execution_count": 40,
   "id": "311a09d0",
   "metadata": {},
   "outputs": [
    {
     "name": "stdout",
     "output_type": "stream",
     "text": [
      "a\n",
      "b\n",
      "c\n"
     ]
    }
   ],
   "source": [
    "this = (\"a\",\"b\",\"c\")\n",
    "for a in this:\n",
    "    print(a)"
   ]
  },
  {
   "cell_type": "markdown",
   "id": "f9a5c015",
   "metadata": {},
   "source": [
    "# join two tuple"
   ]
  },
  {
   "cell_type": "code",
   "execution_count": 41,
   "id": "aec72d82",
   "metadata": {},
   "outputs": [
    {
     "name": "stdout",
     "output_type": "stream",
     "text": [
      "(1, 2, 3, 4, 'a', 'b')\n"
     ]
    }
   ],
   "source": [
    "t1 = (1,2,3,4)\n",
    "t2 = (\"a\",\"b\")\n",
    "t3 = t1+t2\n",
    "print(t3)"
   ]
  },
  {
   "cell_type": "markdown",
   "id": "c47150e3",
   "metadata": {},
   "source": [
    "# tuple multiply"
   ]
  },
  {
   "cell_type": "code",
   "execution_count": 42,
   "id": "88421b55",
   "metadata": {},
   "outputs": [
    {
     "name": "stdout",
     "output_type": "stream",
     "text": [
      "('a', 'b', 'c', 'a', 'b', 'c')\n"
     ]
    }
   ],
   "source": [
    "a = (\"a\",\"b\",\"c\")\n",
    "b =a*2\n",
    "print(b)"
   ]
  },
  {
   "cell_type": "code",
   "execution_count": 43,
   "id": "b8c55f9f",
   "metadata": {},
   "outputs": [
    {
     "name": "stdout",
     "output_type": "stream",
     "text": [
      "(1, 2, 3, 4, 5, 6, 7, 8, 1, 2, 3, 4, 5, 6, 7, 8)\n",
      "(1, 2, 3, 4, 5, 6, 7, 8, 1, 2, 3, 4, 5, 6, 7, 8, 1, 2, 3, 4, 5, 6, 7, 8)\n",
      "(1, 2, 3, 4, 5, 6, 7, 8, 1, 2, 3, 4, 5, 6, 7, 8)\n",
      "8\n"
     ]
    }
   ],
   "source": [
    "a = (1,2,3,4,5,6,7,8)\n",
    "print(a*2)\n",
    "print(a+a+a)\n",
    "print(a+a)\n",
    "print(len(a))"
   ]
  },
  {
   "cell_type": "markdown",
   "id": "d150b4cb",
   "metadata": {},
   "source": [
    "# write a program to take 5 input from the user and store it in tuple"
   ]
  },
  {
   "cell_type": "code",
   "execution_count": 44,
   "id": "54fc8470",
   "metadata": {},
   "outputs": [
    {
     "name": "stdout",
     "output_type": "stream",
     "text": [
      "enter the values 1\n",
      "(1,)\n",
      "enter the values 2\n",
      "(1, 2)\n",
      "enter the values 3\n",
      "(1, 2, 3)\n",
      "enter the values 4\n",
      "(1, 2, 3, 4)\n",
      "enter the values 5\n",
      "(1, 2, 3, 4, 5)\n",
      "enter the values 6\n",
      "(1, 2, 3, 4, 5, 6)\n"
     ]
    }
   ],
   "source": [
    "t = ()\n",
    "i =0\n",
    "while i<=5:\n",
    "    num = int(input(\"enter the values \"))\n",
    "    t = t + (num,)\n",
    "    i = i+1\n",
    "    print(t)"
   ]
  },
  {
   "cell_type": "code",
   "execution_count": null,
   "id": "2a67196d",
   "metadata": {},
   "outputs": [],
   "source": []
  },
  {
   "cell_type": "code",
   "execution_count": null,
   "id": "1877885a",
   "metadata": {},
   "outputs": [],
   "source": []
  },
  {
   "cell_type": "code",
   "execution_count": null,
   "id": "5468fc4c",
   "metadata": {},
   "outputs": [],
   "source": []
  }
 ],
 "metadata": {
  "kernelspec": {
   "display_name": "Python 3 (ipykernel)",
   "language": "python",
   "name": "python3"
  },
  "language_info": {
   "codemirror_mode": {
    "name": "ipython",
    "version": 3
   },
   "file_extension": ".py",
   "mimetype": "text/x-python",
   "name": "python",
   "nbconvert_exporter": "python",
   "pygments_lexer": "ipython3",
   "version": "3.8.19"
  }
 },
 "nbformat": 4,
 "nbformat_minor": 5
}
