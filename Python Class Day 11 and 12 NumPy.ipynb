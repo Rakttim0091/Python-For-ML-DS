{
 "cells": [
  {
   "cell_type": "markdown",
   "id": "9f6f9b5d",
   "metadata": {},
   "source": [
    "# NumPy Library"
   ]
  },
  {
   "cell_type": "code",
   "execution_count": 3,
   "id": "be9bde67",
   "metadata": {},
   "outputs": [],
   "source": [
    "import numpy as np\n",
    "   \n",
    "  "
   ]
  },
  {
   "cell_type": "code",
   "execution_count": 6,
   "id": "276ea897",
   "metadata": {},
   "outputs": [
    {
     "name": "stdout",
     "output_type": "stream",
     "text": [
      "[1 2 3 4 5 6 7 8]\n",
      "<class 'numpy.ndarray'>\n"
     ]
    }
   ],
   "source": [
    "arr = np.array([1,2,3,4,5,6,7,8])\n",
    "\n",
    "print(arr)\n",
    "print(type(arr))"
   ]
  },
  {
   "cell_type": "code",
   "execution_count": 7,
   "id": "cc615842",
   "metadata": {},
   "outputs": [
    {
     "name": "stdout",
     "output_type": "stream",
     "text": [
      "[1 2 3 4 5 6 7 8]\n",
      "<class 'numpy.ndarray'>\n"
     ]
    }
   ],
   "source": [
    "arr = np.array((1,2,3,4,5,6,7,8))\n",
    "\n",
    "print(arr)\n",
    "\n",
    "print(type(arr))"
   ]
  },
  {
   "cell_type": "markdown",
   "id": "263d8909",
   "metadata": {},
   "source": [
    "# Dimensions in array"
   ]
  },
  {
   "cell_type": "code",
   "execution_count": 9,
   "id": "1b0b5e0f",
   "metadata": {},
   "outputs": [
    {
     "name": "stdout",
     "output_type": "stream",
     "text": [
      "20\n",
      "<class 'numpy.ndarray'>\n",
      "0\n"
     ]
    }
   ],
   "source": [
    "arr = np.array(20)\n",
    "\n",
    "print(arr)\n",
    "\n",
    "print(type(arr))\n",
    "print(arr.ndim)"
   ]
  },
  {
   "cell_type": "markdown",
   "id": "34fe2b09",
   "metadata": {},
   "source": [
    "# 1 D array"
   ]
  },
  {
   "cell_type": "code",
   "execution_count": 12,
   "id": "8150711b",
   "metadata": {},
   "outputs": [
    {
     "name": "stdout",
     "output_type": "stream",
     "text": [
      "[1 2 3 4 5 6 7 8]\n",
      "1\n",
      "<class 'numpy.ndarray'>\n"
     ]
    }
   ],
   "source": [
    "arr = np.array([1,2,3,4,5,6,7,8])\n",
    "\n",
    "print(arr)\n",
    "\n",
    "print(arr.ndim)\n",
    "\n",
    "print(type(arr))"
   ]
  },
  {
   "cell_type": "markdown",
   "id": "3cb297e3",
   "metadata": {},
   "source": [
    "# 2 D array"
   ]
  },
  {
   "cell_type": "code",
   "execution_count": 14,
   "id": "6f08fc20",
   "metadata": {},
   "outputs": [
    {
     "name": "stdout",
     "output_type": "stream",
     "text": [
      "[[1 3 4 5 6]\n",
      " [5 6 7 8 9]]\n",
      "2\n"
     ]
    }
   ],
   "source": [
    "arr = np.array([[1,3,4,5,6],[5,6,7,8,9]])\n",
    "print(arr)\n",
    "print(arr.ndim)"
   ]
  },
  {
   "cell_type": "code",
   "execution_count": 16,
   "id": "6e013d05",
   "metadata": {},
   "outputs": [
    {
     "name": "stdout",
     "output_type": "stream",
     "text": [
      "[[1 3 4 5 6]\n",
      " [5 6 7 8 9]]\n",
      "2\n"
     ]
    }
   ],
   "source": [
    "arr = np.array([[1,3,4,5,6,],[5,6,7,8,9]])\n",
    "print(arr)\n",
    "print(arr.ndim)"
   ]
  },
  {
   "cell_type": "markdown",
   "id": "16bb04ac",
   "metadata": {},
   "source": [
    "# 3D araay"
   ]
  },
  {
   "cell_type": "code",
   "execution_count": 18,
   "id": "1520119a",
   "metadata": {},
   "outputs": [
    {
     "name": "stdout",
     "output_type": "stream",
     "text": [
      "[[[ 1  3  4  5  6]\n",
      "  [ 5  6  7  8  9]\n",
      "  [65 44 55 66 66]]]\n",
      "3\n"
     ]
    }
   ],
   "source": [
    "arr = np.array([[[1,3,4,5,6,],[5,6,7,8,9],[65,44,55,66,66]]])\n",
    "print(arr)\n",
    "print(arr.ndim)"
   ]
  },
  {
   "cell_type": "code",
   "execution_count": 21,
   "id": "e1d5db2a",
   "metadata": {},
   "outputs": [
    {
     "name": "stdout",
     "output_type": "stream",
     "text": [
      "[[[ 1  3  4  5  6]\n",
      "  [ 5  6  7  8  9]\n",
      "  [65 44 55 66 66]]]\n",
      "number of dimensions  3\n"
     ]
    }
   ],
   "source": [
    "ara = np.array([1,2,3,4], ndmin=5)\n",
    "\n",
    "print(arr)\n",
    "\n",
    "print(\"number of dimensions \", arr.ndim)"
   ]
  },
  {
   "cell_type": "markdown",
   "id": "d6a983a2",
   "metadata": {},
   "source": [
    "# indexing in numpy array"
   ]
  },
  {
   "cell_type": "code",
   "execution_count": 22,
   "id": "f8cbcd0c",
   "metadata": {},
   "outputs": [
    {
     "name": "stdout",
     "output_type": "stream",
     "text": [
      "2\n"
     ]
    }
   ],
   "source": [
    "arr = np.array([1,2,3,4])\n",
    "print(arr[1])"
   ]
  },
  {
   "cell_type": "code",
   "execution_count": 23,
   "id": "9ada915a",
   "metadata": {},
   "outputs": [
    {
     "name": "stdout",
     "output_type": "stream",
     "text": [
      "44\n",
      "77\n",
      "99\n",
      "sum  [129]\n"
     ]
    }
   ],
   "source": [
    "arr = np.array([1,22,33,44,55,66,77,88,99])\n",
    "\n",
    "print(arr[3])\n",
    "\n",
    "print(arr[6])\n",
    "\n",
    "print(arr[8])\n",
    "\n",
    "print(\"sum \", arr[3]+arr[6]+[8])"
   ]
  },
  {
   "cell_type": "markdown",
   "id": "189e4d8a",
   "metadata": {},
   "source": [
    "# 2d array index"
   ]
  },
  {
   "cell_type": "code",
   "execution_count": 29,
   "id": "cf4c279c",
   "metadata": {},
   "outputs": [
    {
     "name": "stdout",
     "output_type": "stream",
     "text": [
      "66\n"
     ]
    }
   ],
   "source": [
    "arr = np.array([[1,22,33,44],[55,66,77,88]])\n",
    "\n",
    "print(arr[1,1])"
   ]
  },
  {
   "cell_type": "markdown",
   "id": "bc745cbd",
   "metadata": {},
   "source": [
    "# add the first element of row 1 and last element"
   ]
  },
  {
   "cell_type": "code",
   "execution_count": 31,
   "id": "d72bbbda",
   "metadata": {},
   "outputs": [
    {
     "name": "stdout",
     "output_type": "stream",
     "text": [
      "1\n",
      "88\n",
      "89\n"
     ]
    }
   ],
   "source": [
    "arr = np.array([[1,22,33,44],[55,66,77,88]])\n",
    "\n",
    "\n",
    "print(arr[0,0])\n",
    "print(arr[1,3])\n",
    "print(arr[0,0]+arr[1,3])"
   ]
  },
  {
   "cell_type": "markdown",
   "id": "d418eca2",
   "metadata": {},
   "source": [
    "# access 3D arrays"
   ]
  },
  {
   "cell_type": "markdown",
   "id": "5736501d",
   "metadata": {},
   "source": [
    "# access the three element of the second array of the first array"
   ]
  },
  {
   "cell_type": "code",
   "execution_count": 5,
   "id": "cdd4fa21",
   "metadata": {},
   "outputs": [
    {
     "name": "stdout",
     "output_type": "stream",
     "text": [
      "77\n"
     ]
    }
   ],
   "source": [
    "arr = np.array([[[1,22,33,44],[55,66,77,88]],[[3,4,5,6],[99,66,77,88]]])\n",
    "\n",
    "print(arr[0,1,2])"
   ]
  },
  {
   "cell_type": "code",
   "execution_count": null,
   "id": "085a99ad-103b-4754-ac2c-6f9bad738b66",
   "metadata": {},
   "outputs": [],
   "source": []
  },
  {
   "cell_type": "markdown",
   "id": "c5eabe1f",
   "metadata": {},
   "source": [
    "# Python Class Day 12/ 2nd Class of PanDa"
   ]
  },
  {
   "cell_type": "markdown",
   "id": "2e19d7a7",
   "metadata": {},
   "source": [
    "# slicing of Numpy arrays"
   ]
  },
  {
   "cell_type": "code",
   "execution_count": 9,
   "id": "d921ad10-fa67-4f78-ac69-476e3d94ca09",
   "metadata": {},
   "outputs": [],
   "source": [
    "#2D array\n",
    "import numpy as np\n"
   ]
  },
  {
   "cell_type": "code",
   "execution_count": 10,
   "id": "54bff102-5ac3-4b67-8aa9-c5699bfd8643",
   "metadata": {},
   "outputs": [
    {
     "name": "stdout",
     "output_type": "stream",
     "text": [
      "[1 3 5 7 9]\n"
     ]
    }
   ],
   "source": [
    "arr = np.array([1,2,3,4,5,6,7,8,9])\n",
    "print(arr[::2])"
   ]
  },
  {
   "cell_type": "markdown",
   "id": "15fecdab",
   "metadata": {},
   "source": [
    "# 2D array"
   ]
  },
  {
   "cell_type": "code",
   "execution_count": 11,
   "id": "006f44df-5dd1-43bf-a9d5-9974af83bf29",
   "metadata": {},
   "outputs": [
    {
     "name": "stdout",
     "output_type": "stream",
     "text": [
      "[18 19 20]\n"
     ]
    }
   ],
   "source": [
    "arr = np.array([[12,13,14,15,16],[17,18,19,20,21]])\n",
    "\n",
    "print(arr[1,1:4])"
   ]
  },
  {
   "cell_type": "code",
   "execution_count": 12,
   "id": "f7723195-186b-47a3-9ea3-6a6a11a74ea7",
   "metadata": {},
   "outputs": [
    {
     "name": "stdout",
     "output_type": "stream",
     "text": [
      "[13 14 15]\n"
     ]
    }
   ],
   "source": [
    "arr = np.array([[12,13,14,15,16],[17,18,19,20,21]])\n",
    "\n",
    "print(arr[0,1:4])"
   ]
  },
  {
   "cell_type": "markdown",
   "id": "a99b5326",
   "metadata": {},
   "source": [
    "# 3D array"
   ]
  },
  {
   "cell_type": "code",
   "execution_count": 15,
   "id": "a44a4936-8437-4b38-b527-22d76ffe59f9",
   "metadata": {},
   "outputs": [
    {
     "name": "stdout",
     "output_type": "stream",
     "text": [
      "[23 24 25]\n"
     ]
    }
   ],
   "source": [
    "arr = np.array([[[12,13,14,15,16],[17,18,19,20,21],[22,23,24,25,26]]])\n",
    "\n",
    "print(arr[0,2,1:4])"
   ]
  },
  {
   "cell_type": "markdown",
   "id": "7d11a1da",
   "metadata": {},
   "source": [
    "# Checking the data type of an array"
   ]
  },
  {
   "cell_type": "code",
   "execution_count": 16,
   "id": "d43e7e4e",
   "metadata": {},
   "outputs": [
    {
     "name": "stdout",
     "output_type": "stream",
     "text": [
      "int32\n"
     ]
    }
   ],
   "source": [
    "arr = np.array([1,2,3,4])\n",
    "\n",
    "\n",
    "print(arr.dtype)"
   ]
  },
  {
   "cell_type": "code",
   "execution_count": 20,
   "id": "9f94d2af",
   "metadata": {},
   "outputs": [
    {
     "name": "stdout",
     "output_type": "stream",
     "text": [
      "<U5\n"
     ]
    }
   ],
   "source": [
    "arr = np.array(['array'])\n",
    "\n",
    "print(arr.dtype)"
   ]
  },
  {
   "cell_type": "markdown",
   "id": "745b666d",
   "metadata": {},
   "source": [
    "# creating arrays with a defined data type"
   ]
  },
  {
   "cell_type": "code",
   "execution_count": 25,
   "id": "d9609904",
   "metadata": {},
   "outputs": [
    {
     "name": "stdout",
     "output_type": "stream",
     "text": [
      "[b'1' b'2' b'3' b'4']\n",
      "|S1\n"
     ]
    }
   ],
   "source": [
    "a = np.array([1,2,3,4], dtype = \"S\")\n",
    "\n",
    "print(a)\n",
    "\n",
    "print(a.dtype)"
   ]
  },
  {
   "cell_type": "markdown",
   "id": "08e87db8",
   "metadata": {},
   "source": [
    "# create an array with data type 4 bytes int"
   ]
  },
  {
   "cell_type": "code",
   "execution_count": 26,
   "id": "47b8a331",
   "metadata": {},
   "outputs": [
    {
     "name": "stdout",
     "output_type": "stream",
     "text": [
      "[1 2 3 4]\n",
      "int32\n"
     ]
    }
   ],
   "source": [
    "a = np.array([1,2,3,4], dtype = \"i4\")\n",
    "\n",
    "print(a)\n",
    "\n",
    "print(a.dtype)"
   ]
  },
  {
   "cell_type": "markdown",
   "id": "fa8c2fd3",
   "metadata": {},
   "source": [
    "# NumPy array shape"
   ]
  },
  {
   "cell_type": "markdown",
   "id": "7fe9ae78",
   "metadata": {},
   "source": [
    "# the shape of an array is the number of element in each dimesnion"
   ]
  },
  {
   "cell_type": "markdown",
   "id": "c32f20ca",
   "metadata": {},
   "source": [
    "# print the shape of a 2d array"
   ]
  },
  {
   "cell_type": "code",
   "execution_count": 30,
   "id": "ab676236",
   "metadata": {},
   "outputs": [
    {
     "name": "stdout",
     "output_type": "stream",
     "text": [
      "(2, 4)\n"
     ]
    }
   ],
   "source": [
    "a = np.array([[1,2,3,4],[5,6,7,8]])\n",
    "\n",
    "print(a.shape)"
   ]
  },
  {
   "cell_type": "code",
   "execution_count": 31,
   "id": "20a4204c",
   "metadata": {},
   "outputs": [
    {
     "name": "stdout",
     "output_type": "stream",
     "text": [
      "(1, 3, 4)\n"
     ]
    }
   ],
   "source": [
    "a = np.array([[[1,2,3,4],[5,6,7,8],[9,7,8,6]]])\n",
    "\n",
    "print(a.shape)"
   ]
  },
  {
   "cell_type": "markdown",
   "id": "3d7217f5",
   "metadata": {},
   "source": [
    "# join NumPy arrays"
   ]
  },
  {
   "cell_type": "code",
   "execution_count": 33,
   "id": "33480e33",
   "metadata": {},
   "outputs": [
    {
     "name": "stdout",
     "output_type": "stream",
     "text": [
      "[1 2 3 4 5 6 7 8]\n"
     ]
    }
   ],
   "source": [
    "a = np.array([1,2,3,4])\n",
    "\n",
    "a1 = np.array([5,6,7,8])\n",
    "\n",
    "\n",
    "arr = np.concatenate((a,a1))\n",
    "\n",
    "print(arr)"
   ]
  },
  {
   "cell_type": "markdown",
   "id": "69b7faff",
   "metadata": {},
   "source": [
    "# join 2D array"
   ]
  },
  {
   "cell_type": "code",
   "execution_count": 35,
   "id": "c9e725fe",
   "metadata": {},
   "outputs": [
    {
     "name": "stdout",
     "output_type": "stream",
     "text": [
      "[[ 1  2  3  4  1  2 66  4]\n",
      " [ 5  6  7  8  5  6 44  8]]\n"
     ]
    }
   ],
   "source": [
    "a = np.array([[1,2,3,4],[5,6,7,8]])\n",
    "\n",
    "a1 = np.array([[1,2,66,4],[5,6,44,8]])\n",
    "\n",
    "a2 = np.concatenate((a,a1),axis =1)\n",
    "print(a2)"
   ]
  },
  {
   "cell_type": "code",
   "execution_count": 36,
   "id": "03147ebd",
   "metadata": {},
   "outputs": [
    {
     "name": "stdout",
     "output_type": "stream",
     "text": [
      "[[ 1  2  3  4]\n",
      " [ 5  6  7  8]\n",
      " [ 1  2 66  4]\n",
      " [ 5  6 44  8]]\n"
     ]
    }
   ],
   "source": [
    "a = np.array([[1,2,3,4],[5,6,7,8]])\n",
    "\n",
    "a1 = np.array([[1,2,66,4],[5,6,44,8]])\n",
    "\n",
    "a2 = np.concatenate((a,a1),axis =0)\n",
    "print(a2)"
   ]
  },
  {
   "cell_type": "markdown",
   "id": "0900f82c",
   "metadata": {},
   "source": [
    "# splitting array NumPy"
   ]
  },
  {
   "cell_type": "markdown",
   "id": "e488c9bc",
   "metadata": {},
   "source": [
    "# array in 3 part"
   ]
  },
  {
   "cell_type": "code",
   "execution_count": 37,
   "id": "2ebd7e30",
   "metadata": {},
   "outputs": [
    {
     "name": "stdout",
     "output_type": "stream",
     "text": [
      "[array([1, 2]), array([3, 4]), array([5, 6])]\n"
     ]
    }
   ],
   "source": [
    "a = np.array([1,2,3,4,5,6])\n",
    "\n",
    "newa = np.array_split(a,3)\n",
    "\n",
    "print(newa)"
   ]
  },
  {
   "cell_type": "code",
   "execution_count": 38,
   "id": "cb1d97e6",
   "metadata": {},
   "outputs": [
    {
     "name": "stdout",
     "output_type": "stream",
     "text": [
      "[array([1, 2]), array([3, 4]), array([5]), array([6])]\n"
     ]
    }
   ],
   "source": [
    "a = np.array([1,2,3,4,5,6])\n",
    "\n",
    "newa = np.array_split(a,4)\n",
    "\n",
    "print(newa)"
   ]
  },
  {
   "cell_type": "markdown",
   "id": "c03bd26b",
   "metadata": {},
   "source": [
    "# ravel & flatten"
   ]
  },
  {
   "cell_type": "markdown",
   "id": "5c9bbe79",
   "metadata": {},
   "source": [
    "# converts multidimensional array into 1d array"
   ]
  },
  {
   "cell_type": "code",
   "execution_count": 43,
   "id": "109451ba",
   "metadata": {},
   "outputs": [
    {
     "name": "stdout",
     "output_type": "stream",
     "text": [
      "[[[1 2 3 4]\n",
      "  [5 6 7 8]\n",
      "  [4 5 6 7]]]\n",
      "3\n",
      "[1 2 3 4 5 6 7 8 4 5 6 7]\n",
      "new dimensions  1\n"
     ]
    }
   ],
   "source": [
    "a = np.array([[[1,2,3,4],[5,6,7,8],[4,5,6,7]]])\n",
    "\n",
    "print(a)\n",
    "\n",
    "print(a.ndim)\n",
    "\n",
    "n =a.ravel()\n",
    "print(n)\n",
    "print(\"new dimensions \", n.ndim)"
   ]
  },
  {
   "cell_type": "code",
   "execution_count": 45,
   "id": "398cdf32",
   "metadata": {},
   "outputs": [
    {
     "name": "stdout",
     "output_type": "stream",
     "text": [
      "[[[1 2 3 4]\n",
      "  [5 6 7 8]\n",
      "  [4 5 6 7]]]\n",
      "3\n",
      "[1 2 3 4 5 6 7 8 4 5 6 7]\n",
      "new dimensions  1\n"
     ]
    }
   ],
   "source": [
    "a = np.array([[[1,2,3,4],[5,6,7,8],[4,5,6,7]]])\n",
    "\n",
    "print(a)\n",
    "\n",
    "print(a.ndim)\n",
    "\n",
    "n =a.flatten()\n",
    "print(n)\n",
    "print(\"new dimensions \", n.ndim)"
   ]
  },
  {
   "cell_type": "code",
   "execution_count": 51,
   "id": "8cd94510",
   "metadata": {},
   "outputs": [
    {
     "name": "stdout",
     "output_type": "stream",
     "text": [
      "[[[[ 1  2  3]\n",
      "   [33 44 55]\n",
      "   [44 55 77]\n",
      "   [55 99 77]]]]\n",
      "Dimensnion  4\n",
      "[ 1  2  3 33 44 55 44 55 77 55 99 77]\n",
      "1\n"
     ]
    }
   ],
   "source": [
    "a = np.array([[[[1,2,3],[33,44,55],[44,55,77],[55,99,77]]]])\n",
    "\n",
    "\n",
    "print(a)\n",
    "\n",
    "\n",
    "print(\"Dimensnion \",a.ndim)\n",
    "s = a.ravel()\n",
    "\n",
    "print(s)\n",
    "\n",
    "print(s.ndim)"
   ]
  },
  {
   "cell_type": "markdown",
   "id": "3b756bcf",
   "metadata": {},
   "source": [
    "# Unique function"
   ]
  },
  {
   "cell_type": "code",
   "execution_count": 52,
   "id": "0fdd7013",
   "metadata": {},
   "outputs": [
    {
     "name": "stdout",
     "output_type": "stream",
     "text": [
      "[  1   2 333 444  55 343  53 545  66  77  88   1   2 333 444]\n",
      "[  1   2  53  55  66  77  88 333 343 444 545]\n"
     ]
    }
   ],
   "source": [
    "a = np.array([1,2,333,444,55,343,53,545,66,77,88,1,2,333,444])\n",
    "\n",
    "\n",
    "\n",
    "print(a)\n",
    "\n",
    "\n",
    "s = np.unique(a)\n",
    "\n",
    "print(s)"
   ]
  },
  {
   "cell_type": "code",
   "execution_count": 53,
   "id": "3d626da0",
   "metadata": {},
   "outputs": [
    {
     "name": "stdout",
     "output_type": "stream",
     "text": [
      "[  1   2 333 444  55 343  53 545  66  77  88   1   2 333 444]\n",
      "(array([  1,   2,  53,  55,  66,  77,  88, 333, 343, 444, 545]), array([ 0,  1,  6,  4,  8,  9, 10,  2,  5,  3,  7], dtype=int64))\n"
     ]
    }
   ],
   "source": [
    "a = np.array([1,2,333,444,55,343,53,545,66,77,88,1,2,333,444])\n",
    "\n",
    "\n",
    "\n",
    "print(a)\n",
    "\n",
    "\n",
    "s = np.unique(a, return_index = True)\n",
    "\n",
    "print(s)"
   ]
  },
  {
   "cell_type": "code",
   "execution_count": 55,
   "id": "7b96b21c",
   "metadata": {},
   "outputs": [
    {
     "name": "stdout",
     "output_type": "stream",
     "text": [
      "[  1   2 333 444  55 343  53 545  66  77  88   1   2 333 444]\n",
      "(array([  1,   2,  53,  55,  66,  77,  88, 333, 343, 444, 545]), array([ 0,  1,  6,  4,  8,  9, 10,  2,  5,  3,  7], dtype=int64), array([2, 2, 1, 1, 1, 1, 1, 2, 1, 2, 1], dtype=int64))\n"
     ]
    }
   ],
   "source": [
    "a = np.array([1,2,333,444,55,343,53,545,66,77,88,1,2,333,444])\n",
    "\n",
    "\n",
    "\n",
    "print(a)\n",
    "\n",
    "\n",
    "s = np.unique(a, return_index = True, return_counts = True)\n",
    "\n",
    "print(s)"
   ]
  },
  {
   "cell_type": "markdown",
   "id": "683d6d63",
   "metadata": {},
   "source": [
    "# Delete"
   ]
  },
  {
   "cell_type": "code",
   "execution_count": 56,
   "id": "f38aceb6",
   "metadata": {},
   "outputs": [
    {
     "name": "stdout",
     "output_type": "stream",
     "text": [
      "[1 3 4 5]\n"
     ]
    }
   ],
   "source": [
    "a = np.array([1,2,3,4,5])\n",
    "\n",
    "\n",
    "s = np.delete(a,[1])\n",
    "\n",
    "print(s)"
   ]
  },
  {
   "cell_type": "code",
   "execution_count": 58,
   "id": "b019e364",
   "metadata": {},
   "outputs": [
    {
     "name": "stdout",
     "output_type": "stream",
     "text": [
      "[[  1   2   3   4]\n",
      " [  5  55   6   7]\n",
      " [  2 444  55  66]]\n",
      "\n",
      "[[  1   2   3   4]\n",
      " [  2 444  55  66]]\n"
     ]
    }
   ],
   "source": [
    "a = np.array([[1,2,3,4],[5,55,6,7],[2,444,55,66]])\n",
    "\n",
    "print(a)\n",
    "\n",
    "s = np.delete(a,1,axis = 0)\n",
    "\n",
    "print()\n",
    "\n",
    "print(s)"
   ]
  },
  {
   "cell_type": "code",
   "execution_count": null,
   "id": "3cbac211",
   "metadata": {},
   "outputs": [],
   "source": []
  }
 ],
 "metadata": {
  "kernelspec": {
   "display_name": "Python 3 (ipykernel)",
   "language": "python",
   "name": "python3"
  },
  "language_info": {
   "codemirror_mode": {
    "name": "ipython",
    "version": 3
   },
   "file_extension": ".py",
   "mimetype": "text/x-python",
   "name": "python",
   "nbconvert_exporter": "python",
   "pygments_lexer": "ipython3",
   "version": "3.8.19"
  }
 },
 "nbformat": 4,
 "nbformat_minor": 5
}
