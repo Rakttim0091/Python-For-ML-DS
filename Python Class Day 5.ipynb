{
 "cells": [
  {
   "cell_type": "markdown",
   "id": "22830ef3",
   "metadata": {},
   "source": [
    "# User defined functions"
   ]
  },
  {
   "cell_type": "code",
   "execution_count": 10,
   "id": "f13ca21e",
   "metadata": {},
   "outputs": [],
   "source": [
    "def my_function():\n",
    "    print(\"hello\")\n",
    "    print(\"rb\")"
   ]
  },
  {
   "cell_type": "markdown",
   "id": "31a1fcc9",
   "metadata": {},
   "source": [
    "# calling funcation"
   ]
  },
  {
   "cell_type": "code",
   "execution_count": 11,
   "id": "f69684c1",
   "metadata": {},
   "outputs": [
    {
     "name": "stdout",
     "output_type": "stream",
     "text": [
      "hello\n",
      "rb\n"
     ]
    }
   ],
   "source": [
    "my_function ()"
   ]
  },
  {
   "cell_type": "code",
   "execution_count": 6,
   "id": "765f8beb",
   "metadata": {},
   "outputs": [],
   "source": [
    "def rb():\n",
    "    print(\"hello\")"
   ]
  },
  {
   "cell_type": "code",
   "execution_count": 7,
   "id": "251d3ae6",
   "metadata": {},
   "outputs": [
    {
     "name": "stdout",
     "output_type": "stream",
     "text": [
      "hello\n"
     ]
    }
   ],
   "source": [
    "rb()"
   ]
  },
  {
   "cell_type": "markdown",
   "id": "e7628050",
   "metadata": {},
   "source": [
    "# making the result of a student"
   ]
  },
  {
   "cell_type": "code",
   "execution_count": 12,
   "id": "28acbf33",
   "metadata": {},
   "outputs": [],
   "source": [
    "def contact():\n",
    "    print(\"Contact detal oof the school \")\n",
    "    print(\"Delhi public School \")\n",
    "    print(\"Ban \")\n",
    "    print(\"9887769 \")\n",
    "    print(\"gy@gmail.com \")"
   ]
  },
  {
   "cell_type": "code",
   "execution_count": 13,
   "id": "5ac74421",
   "metadata": {},
   "outputs": [
    {
     "name": "stdout",
     "output_type": "stream",
     "text": [
      "Name of the studentrb\n",
      "enter the marks of math77\n",
      "enter the marks if science78\n",
      "enter the marks if social77\n",
      "\n",
      "Contact detal oof the school\n",
      "Delhi public School\n",
      "Ban\n",
      "9887769\n",
      "gy@gmail.com\n",
      "Name of the studenthj\n",
      "enter the marks of math7\n",
      "enter the marks if science87\n",
      "enter the marks if social8\n",
      "\n",
      "Contact detal oof the school\n",
      "Delhi public School\n",
      "Ban\n",
      "9887769\n",
      "gy@gmail.com\n",
      "Name of the studentgtr\n",
      "enter the marks of math76\n",
      "enter the marks if science67\n",
      "enter the marks if social99\n",
      "\n",
      "Contact detal oof the school\n",
      "Delhi public School\n",
      "Ban\n",
      "9887769\n",
      "gy@gmail.com\n",
      "Name of the studentfgh\n",
      "enter the marks of math67\n",
      "enter the marks if science7\n",
      "enter the marks if social79\n",
      "\n",
      "Contact detal oof the school\n",
      "Delhi public School\n",
      "Ban\n",
      "9887769\n",
      "gy@gmail.com\n"
     ]
    }
   ],
   "source": [
    "for i in range(4):\n",
    "    a = input(\"Name of the student \")\n",
    "    b = int(input(\"enter the marks of math \"))\n",
    "    c = int(input(\"enter the marks if science \"))\n",
    "    d = int(input(\"enter the marks if social \"))\n",
    "    print()\n",
    "    contact()"
   ]
  },
  {
   "cell_type": "markdown",
   "id": "e27d1f55",
   "metadata": {},
   "source": [
    "# Arguments"
   ]
  },
  {
   "cell_type": "code",
   "execution_count": 20,
   "id": "7cb5ebc2",
   "metadata": {},
   "outputs": [],
   "source": [
    "def my(Fname):\n",
    "    print(Fname + \" \" + \"Sharma\")\n",
    "    "
   ]
  },
  {
   "cell_type": "code",
   "execution_count": 22,
   "id": "8353f2b0",
   "metadata": {},
   "outputs": [
    {
     "name": "stdout",
     "output_type": "stream",
     "text": [
      "rb Sharma\n"
     ]
    }
   ],
   "source": [
    "my(\"rb\")"
   ]
  },
  {
   "cell_type": "code",
   "execution_count": 19,
   "id": "7ec272b8",
   "metadata": {},
   "outputs": [
    {
     "name": "stdout",
     "output_type": "stream",
     "text": [
      "enter the name rb\n",
      "rbSharma\n"
     ]
    }
   ],
   "source": [
    "a = input(\"enter the name \")\n",
    "my(a)"
   ]
  },
  {
   "cell_type": "markdown",
   "id": "955f0cd4",
   "metadata": {},
   "source": [
    "# multi argument pass"
   ]
  },
  {
   "cell_type": "code",
   "execution_count": 25,
   "id": "16cbb26e",
   "metadata": {},
   "outputs": [],
   "source": [
    "def my(Fname, Lname):\n",
    "    print(Fname + \" \" + Lname)\n",
    "    "
   ]
  },
  {
   "cell_type": "code",
   "execution_count": 26,
   "id": "76e02213",
   "metadata": {},
   "outputs": [
    {
     "name": "stdout",
     "output_type": "stream",
     "text": [
      "rh hd\n"
     ]
    }
   ],
   "source": [
    "my(\"rh\", \"hd\")"
   ]
  },
  {
   "cell_type": "code",
   "execution_count": 29,
   "id": "a457e2ce",
   "metadata": {},
   "outputs": [
    {
     "name": "stdout",
     "output_type": "stream",
     "text": [
      "enter the name tt\n",
      "enter the last namety\n",
      "tt ty\n"
     ]
    }
   ],
   "source": [
    "a = input(\"enter the name \")\n",
    "b = input(\"enter the last name\")\n",
    "my(a,b)"
   ]
  },
  {
   "cell_type": "markdown",
   "id": "f0f10db2",
   "metadata": {},
   "source": [
    "# ele bill"
   ]
  },
  {
   "cell_type": "markdown",
   "id": "24bc92bf",
   "metadata": {},
   "source": [
    "# write a program to calculate the selectricity bill\n",
    "\n",
    "\n",
    "if 500 unit - pay rs 5 for each unit\n",
    "if 700 unit - pay rs 10 for each unit\n",
    "if 1000 unit - pay rs 15 for each unit\n",
    "if more then unit - pay rs 20 for each unit"
   ]
  },
  {
   "cell_type": "code",
   "execution_count": 1,
   "id": "ed8c1303",
   "metadata": {},
   "outputs": [],
   "source": [
    "def ele_bill(n):\n",
    "    if n<=500:\n",
    "        print(\"Your bill is Rs\", n*5)\n",
    "    elif n>500 and n<=700:\n",
    "            print(\"your bill is Rs\", n*10)\n",
    "    elif n>700 and n<=1000:\n",
    "            print(\"your bill is Rs\", n*15)\n",
    "    elif n>1000:\n",
    "            print(\"your bill is rs\", n*20)"
   ]
  },
  {
   "cell_type": "code",
   "execution_count": 4,
   "id": "dd73777a",
   "metadata": {},
   "outputs": [],
   "source": [
    "def instraction():\n",
    "    print(\"Last day of paying date 10 may\")\n",
    "    print(\"after 10 may you need to pay 1000 rs as  fine\")\n",
    "    print(\"Elecyricty office bd\")"
   ]
  },
  {
   "cell_type": "code",
   "execution_count": 5,
   "id": "8460b969",
   "metadata": {},
   "outputs": [
    {
     "name": "stdout",
     "output_type": "stream",
     "text": [
      "Enter the nameyy\n",
      "Enter the unit you use 888\n",
      "your bill is Rs 13320\n",
      "\n",
      "Last day of paying date 10 may\n",
      "after 10 may you need to pay 1000 rs as  fine\n",
      "Elecyricty office bd\n",
      "Enter the namegh\n",
      "Enter the unit you use 6767\n",
      "your bill is rs 135340\n",
      "\n",
      "Last day of paying date 10 may\n",
      "after 10 may you need to pay 1000 rs as  fine\n",
      "Elecyricty office bd\n",
      "Enter the namehj\n",
      "Enter the unit you use 56\n",
      "Your bill is Rs 280\n",
      "\n",
      "Last day of paying date 10 may\n",
      "after 10 may you need to pay 1000 rs as  fine\n",
      "Elecyricty office bd\n"
     ]
    }
   ],
   "source": [
    "for i in range(3):\n",
    "    a = input(\"Enter the name\")\n",
    "    n = int(input(\"Enter the unit you use \"))\n",
    "    ele_bill(n)\n",
    "    print()\n",
    "    instraction()"
   ]
  },
  {
   "cell_type": "code",
   "execution_count": null,
   "id": "5a045ded",
   "metadata": {},
   "outputs": [],
   "source": []
  },
  {
   "cell_type": "code",
   "execution_count": null,
   "id": "2361da1c",
   "metadata": {},
   "outputs": [],
   "source": []
  },
  {
   "cell_type": "code",
   "execution_count": null,
   "id": "4d8e0cb3",
   "metadata": {},
   "outputs": [],
   "source": []
  }
 ],
 "metadata": {
  "kernelspec": {
   "display_name": "Python 3 (ipykernel)",
   "language": "python",
   "name": "python3"
  },
  "language_info": {
   "codemirror_mode": {
    "name": "ipython",
    "version": 3
   },
   "file_extension": ".py",
   "mimetype": "text/x-python",
   "name": "python",
   "nbconvert_exporter": "python",
   "pygments_lexer": "ipython3",
   "version": "3.8.19"
  }
 },
 "nbformat": 4,
 "nbformat_minor": 5
}
