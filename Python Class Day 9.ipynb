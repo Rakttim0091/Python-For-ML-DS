{
 "cells": [
  {
   "cell_type": "markdown",
   "id": "8f759e56",
   "metadata": {},
   "source": [
    "# Dictionary in Python"
   ]
  },
  {
   "cell_type": "code",
   "execution_count": 2,
   "id": "b5a11f3d",
   "metadata": {},
   "outputs": [
    {
     "name": "stdout",
     "output_type": "stream",
     "text": [
      "{'id': '123ab', 'colour': 'Black', 'Year': 1998}\n",
      "<class 'dict'>\n"
     ]
    }
   ],
   "source": [
    "a = {\n",
    "    \"id\" : \"123ab\",\n",
    "    \"colour\" : \"Black\",\n",
    "    \"Year\" : 1998\n",
    "}\n",
    "\n",
    "print(a)\n",
    "print(type(a))"
   ]
  },
  {
   "cell_type": "code",
   "execution_count": null,
   "id": "9fa19862",
   "metadata": {},
   "outputs": [],
   "source": [
    "a = {\n",
    "    \"id\" : \"123ab\",\n",
    "    \"colour\" : \"Black\",\n",
    "    \"Year\" : 1998\n",
    "}"
   ]
  },
  {
   "cell_type": "code",
   "execution_count": 3,
   "id": "a3e803e0",
   "metadata": {},
   "outputs": [
    {
     "name": "stdout",
     "output_type": "stream",
     "text": [
      "Black\n"
     ]
    }
   ],
   "source": [
    "print(a[\"colour\"])"
   ]
  },
  {
   "cell_type": "code",
   "execution_count": 5,
   "id": "7340f470",
   "metadata": {},
   "outputs": [
    {
     "name": "stdout",
     "output_type": "stream",
     "text": [
      "{'id': '123ab', 'colour': 'Black', 'Year': 1999}\n"
     ]
    }
   ],
   "source": [
    "a = {\n",
    "    \"id\" : \"123ab\",\n",
    "    \"colour\" : \"Black\",\n",
    "    \"Year\" : 1998,\n",
    "    \"Year\" : 1999\n",
    "}\n",
    "print(a)"
   ]
  },
  {
   "cell_type": "markdown",
   "id": "b8731e9b",
   "metadata": {},
   "source": [
    "# dictionary lenght"
   ]
  },
  {
   "cell_type": "code",
   "execution_count": 8,
   "id": "5309f28a",
   "metadata": {},
   "outputs": [
    {
     "name": "stdout",
     "output_type": "stream",
     "text": [
      "4\n"
     ]
    }
   ],
   "source": [
    "a = {\n",
    "    \"id\" : \"123ab\",\n",
    "    \"colour\" : \"Black\",\n",
    "    \"Year\" : 1998,\n",
    "    \"Year\" : 1999,\n",
    "    \"name\" : \"RB\"\n",
    "}\n",
    "\n",
    "print(len(a))"
   ]
  },
  {
   "cell_type": "code",
   "execution_count": 10,
   "id": "f0ae9307",
   "metadata": {},
   "outputs": [
    {
     "name": "stdout",
     "output_type": "stream",
     "text": [
      "{'id': '123ab', 'colour': 'Black', 'Year': 1998, 'name': 'RB', 'b': [1, 2, 3, 4, 5, 6], 'c': (2.2, 3.4, 45), 'd': False}\n"
     ]
    }
   ],
   "source": [
    "a = {\n",
    "    \"id\" : \"123ab\",\n",
    "    \"colour\" : \"Black\",\n",
    "    \"Year\" : 1998,\n",
    "    \"name\" : \"RB\",\n",
    "    \"b\" : [1,2,3,4,5,6],\n",
    "    \"c\" : (2.2,3.4,45),\n",
    "    \"d\" : False\n",
    "    \n",
    "}\n",
    "\n",
    "print(a)"
   ]
  },
  {
   "cell_type": "code",
   "execution_count": 12,
   "id": "46820524",
   "metadata": {},
   "outputs": [
    {
     "name": "stdout",
     "output_type": "stream",
     "text": [
      "{'name': 'RB', 'age': 22, 'country': 'BD'}\n",
      "<class 'dict'>\n"
     ]
    }
   ],
   "source": [
    "a = dict(name = \"RB\",age= 22,country = \"BD\")\n",
    "print(a)\n",
    "print(type(a))"
   ]
  },
  {
   "cell_type": "code",
   "execution_count": 16,
   "id": "5b56737d",
   "metadata": {},
   "outputs": [
    {
     "name": "stdout",
     "output_type": "stream",
     "text": [
      "RB\n"
     ]
    }
   ],
   "source": [
    "a = {\"name\" : \"RB\",\"age\" : \"22\",\"Country\" : \"BD\"}\n",
    "\n",
    "print(a.get(\"name\"))"
   ]
  },
  {
   "cell_type": "code",
   "execution_count": 18,
   "id": "bf263e88",
   "metadata": {},
   "outputs": [],
   "source": [
    "a = {\"name\" : \"RB\",\"age\" : \"22\",\"Country\" : \"BD\"}\n",
    "\n"
   ]
  },
  {
   "cell_type": "code",
   "execution_count": 20,
   "id": "d273d459",
   "metadata": {},
   "outputs": [
    {
     "name": "stdout",
     "output_type": "stream",
     "text": [
      "dict_keys(['name', 'age', 'Country'])\n"
     ]
    }
   ],
   "source": [
    "s = a.keys()\n",
    "\n",
    "print(s)"
   ]
  },
  {
   "cell_type": "code",
   "execution_count": 21,
   "id": "deded2cd",
   "metadata": {},
   "outputs": [
    {
     "name": "stdout",
     "output_type": "stream",
     "text": [
      "dict_values(['RB', '22', 'BD'])\n"
     ]
    }
   ],
   "source": [
    "a = {\"name\" : \"RB\",\"age\" : \"22\",\"Country\" : \"BD\"}\n",
    "\n",
    "y = a.values()\n",
    "\n",
    "print(y)"
   ]
  },
  {
   "cell_type": "markdown",
   "id": "4030cd1e",
   "metadata": {},
   "source": [
    "# value Change "
   ]
  },
  {
   "cell_type": "code",
   "execution_count": 22,
   "id": "76af43ea",
   "metadata": {},
   "outputs": [
    {
     "name": "stdout",
     "output_type": "stream",
     "text": [
      "{'name': 'RB', 'age': 26, 'Country': 'BD'}\n"
     ]
    }
   ],
   "source": [
    "a = {\"name\" : \"RB\",\n",
    "     \"age\" : \"22\",\n",
    "     \"Country\" : \"BD\"\n",
    "    }\n",
    "\n",
    "a[\"age\"] = 26\n",
    "print(a)"
   ]
  },
  {
   "cell_type": "markdown",
   "id": "23657973",
   "metadata": {},
   "source": [
    "# add in dirary"
   ]
  },
  {
   "cell_type": "code",
   "execution_count": 23,
   "id": "75046d42",
   "metadata": {},
   "outputs": [
    {
     "name": "stdout",
     "output_type": "stream",
     "text": [
      "{'name': 'RB', 'age': '22', 'Country': 'BD', 'mail id': 'rb@gmail.com'}\n"
     ]
    }
   ],
   "source": [
    "a = {\"name\" : \"RB\",\n",
    "     \"age\" : \"22\",\n",
    "     \"Country\" : \"BD\"\n",
    "    }\n",
    "a.update({\"mail id\":\"rb@gmail.com\" })\n",
    "\n",
    "print(a)"
   ]
  },
  {
   "cell_type": "code",
   "execution_count": 24,
   "id": "5c7d30b7",
   "metadata": {},
   "outputs": [
    {
     "name": "stdout",
     "output_type": "stream",
     "text": [
      "{'name': 'RB', 'Country': 'BD'}\n"
     ]
    }
   ],
   "source": [
    "a = {\"name\" : \"RB\",\n",
    "     \"age\" : \"22\",\n",
    "     \"Country\" : \"BD\"\n",
    "    }\n",
    "a.pop(\"age\")\n",
    "\n",
    "print(a)"
   ]
  },
  {
   "cell_type": "code",
   "execution_count": 25,
   "id": "1ad0467f",
   "metadata": {},
   "outputs": [
    {
     "name": "stdout",
     "output_type": "stream",
     "text": [
      "{'name': 'RB', 'Country': 'BD'}\n"
     ]
    }
   ],
   "source": [
    "a = {\"name\" : \"RB\",\n",
    "     \"age\" : \"22\",\n",
    "     \"Country\" : \"BD\"\n",
    "    }\n",
    "\n",
    "del a[\"age\"]\n",
    "\n",
    "print(a)"
   ]
  },
  {
   "cell_type": "code",
   "execution_count": 26,
   "id": "1acccb29",
   "metadata": {},
   "outputs": [
    {
     "ename": "NameError",
     "evalue": "name 'a' is not defined",
     "output_type": "error",
     "traceback": [
      "\u001b[1;31m---------------------------------------------------------------------------\u001b[0m",
      "\u001b[1;31mNameError\u001b[0m                                 Traceback (most recent call last)",
      "Cell \u001b[1;32mIn[26], line 8\u001b[0m\n\u001b[0;32m      1\u001b[0m a \u001b[38;5;241m=\u001b[39m {\u001b[38;5;124m\"\u001b[39m\u001b[38;5;124mname\u001b[39m\u001b[38;5;124m\"\u001b[39m : \u001b[38;5;124m\"\u001b[39m\u001b[38;5;124mRB\u001b[39m\u001b[38;5;124m\"\u001b[39m,\n\u001b[0;32m      2\u001b[0m      \u001b[38;5;124m\"\u001b[39m\u001b[38;5;124mage\u001b[39m\u001b[38;5;124m\"\u001b[39m : \u001b[38;5;124m\"\u001b[39m\u001b[38;5;124m22\u001b[39m\u001b[38;5;124m\"\u001b[39m,\n\u001b[0;32m      3\u001b[0m      \u001b[38;5;124m\"\u001b[39m\u001b[38;5;124mCountry\u001b[39m\u001b[38;5;124m\"\u001b[39m : \u001b[38;5;124m\"\u001b[39m\u001b[38;5;124mBD\u001b[39m\u001b[38;5;124m\"\u001b[39m\n\u001b[0;32m      4\u001b[0m     }\n\u001b[0;32m      6\u001b[0m \u001b[38;5;28;01mdel\u001b[39;00m a\n\u001b[1;32m----> 8\u001b[0m \u001b[38;5;28mprint\u001b[39m(\u001b[43ma\u001b[49m)\n",
      "\u001b[1;31mNameError\u001b[0m: name 'a' is not defined"
     ]
    }
   ],
   "source": [
    "a = {\"name\" : \"RB\",\n",
    "     \"age\" : \"22\",\n",
    "     \"Country\" : \"BD\"\n",
    "    }\n",
    "\n",
    "del a\n",
    "\n",
    "print(a)"
   ]
  },
  {
   "cell_type": "code",
   "execution_count": 28,
   "id": "358f9166",
   "metadata": {},
   "outputs": [
    {
     "name": "stdout",
     "output_type": "stream",
     "text": [
      "<class 'dict'>\n",
      "{}\n"
     ]
    }
   ],
   "source": [
    "a = {\"name\" : \"RB\",\n",
    "     \"age\" : \"22\",\n",
    "     \"Country\" : \"BD\"\n",
    "    }\n",
    "\n",
    "\n",
    "a.clear()\n",
    "print(type(a))\n",
    "print(a)"
   ]
  },
  {
   "cell_type": "code",
   "execution_count": null,
   "id": "4b4f7bb0",
   "metadata": {},
   "outputs": [],
   "source": [
    "a = {\"name\" : \"RB\",\n",
    "     \"age\" : \"22\",\n",
    "     \"Country\" : \"BD\"\n",
    "    }\n",
    "\n"
   ]
  },
  {
   "cell_type": "markdown",
   "id": "e729e7a9",
   "metadata": {},
   "source": [
    "# concatation"
   ]
  },
  {
   "cell_type": "code",
   "execution_count": 29,
   "id": "90105c98",
   "metadata": {},
   "outputs": [
    {
     "name": "stdout",
     "output_type": "stream",
     "text": [
      "{1: 10, 2: 20, 3: 30, 4: 40}\n"
     ]
    }
   ],
   "source": [
    "a = {1:10, 2:20}\n",
    "a1 = {3:30,4:40}\n",
    "a2 = {}\n",
    "\n",
    "for d in (a,a1): a2.update(d)\n",
    "print(a2)    "
   ]
  },
  {
   "cell_type": "code",
   "execution_count": 30,
   "id": "240395de",
   "metadata": {},
   "outputs": [
    {
     "name": "stdout",
     "output_type": "stream",
     "text": [
      "{1: 1, 2: 4, 3: 9, 4: 16, 5: 25, 6: 36, 7: 49, 8: 64, 9: 81, 10: 100, 11: 121, 12: 144, 13: 169, 14: 196, 15: 225}\n"
     ]
    }
   ],
   "source": [
    "d = dict()\n",
    "for x in range(1,16):\n",
    "    d[x] = x**2\n",
    "print(d)    "
   ]
  },
  {
   "cell_type": "markdown",
   "id": "548bffca",
   "metadata": {},
   "source": [
    "# check whether a given key already exists in a dictionary"
   ]
  },
  {
   "cell_type": "code",
   "execution_count": 4,
   "id": "99a00112",
   "metadata": {},
   "outputs": [],
   "source": [
    "d = {1:10,2:20,3:30,4:40,5:50,6:60}\n",
    "def is_key_present(x):\n",
    "    if x in d:\n",
    "        print(\"key is presentin the dictionary\")\n",
    "    else:\n",
    "        print(\"key is not present\")\n",
    "        "
   ]
  },
  {
   "cell_type": "code",
   "execution_count": 5,
   "id": "7701ec51",
   "metadata": {},
   "outputs": [
    {
     "name": "stdout",
     "output_type": "stream",
     "text": [
      "key is presentin the dictionary\n"
     ]
    }
   ],
   "source": [
    "is_key_present(5)"
   ]
  },
  {
   "cell_type": "code",
   "execution_count": null,
   "id": "8d21eb40",
   "metadata": {},
   "outputs": [],
   "source": []
  }
 ],
 "metadata": {
  "kernelspec": {
   "display_name": "Python 3 (ipykernel)",
   "language": "python",
   "name": "python3"
  },
  "language_info": {
   "codemirror_mode": {
    "name": "ipython",
    "version": 3
   },
   "file_extension": ".py",
   "mimetype": "text/x-python",
   "name": "python",
   "nbconvert_exporter": "python",
   "pygments_lexer": "ipython3",
   "version": "3.8.19"
  }
 },
 "nbformat": 4,
 "nbformat_minor": 5
}
